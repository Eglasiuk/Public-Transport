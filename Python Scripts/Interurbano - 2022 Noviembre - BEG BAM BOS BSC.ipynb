{
 "cells": [
  {
   "cell_type": "markdown",
   "metadata": {},
   "source": [
    "<center>\n",
    "<img src=\"https://cordoba.tur.ar/wp-content/uploads/2020/04/cropped-logo-Gobierno.png\" width=\"600\" height=\"600\" />\n",
    " </center>       "
   ]
  },
  {
   "cell_type": "markdown",
   "metadata": {},
   "source": [
    "<center>\n",
    "<h3>Secretaría de Transporte de la Provincia de Córdoba<h3>   <h1>Análisis Funcionamiento Boletos de Gratuidad BEG-BOS-BAM<h1>  <h0>Interurbanos<h0>\n",
    "</center>"
   ]
  },
  {
   "cell_type": "markdown",
   "metadata": {},
   "source": [
    "#### Importación de Librerías a Utilizar"
   ]
  },
  {
   "cell_type": "code",
   "execution_count": 1,
   "metadata": {},
   "outputs": [],
   "source": [
    "import io\n",
    "import os\n",
    "import pandas as pd\n",
    "import numpy as np\n",
    "import seaborn as sbn\n",
    "import xlsxwriter\n",
    "import openpyxl\n",
    "\n",
    "%matplotlib inline\n",
    "import matplotlib.pyplot as plt\n",
    "\n",
    "pd.set_option('display.max_columns', None)\n",
    "pd.set_option(\"display.max_rows\", None)"
   ]
  },
  {
   "cell_type": "markdown",
   "metadata": {},
   "source": [
    "#### Lectura Tablas Interurbano"
   ]
  },
  {
   "cell_type": "markdown",
   "metadata": {},
   "source": [
    "En este paso se leen los archivos correspondientes a las tablas de movimientos de usuarios de Interurbanos. Se define una ruta del archivo en la primer línea (folder) y se listan los archivos (filelist). El código está escrito para traer todos los archivos dentro de la carpeta que se le indicó al principio. Esto se puede modificar según como nombren a los archivos. Además, en caso de no querer llamar a la lista completa de archivos, se puede definir a mano esa filelist indicando el nombre de los archivos que se quieren leer. **Para identificar las lineas correspondientes a cada programa, se creó una columna nueva 'PROGRAMA' que toma el nombre del archivo como identificador**"
   ]
  },
  {
   "cell_type": "markdown",
   "metadata": {},
   "source": [
    "### Opcion A\n",
    "Sirve para unir los csv de BEG interurbano por el peso"
   ]
  },
  {
   "cell_type": "code",
   "execution_count": null,
   "metadata": {},
   "outputs": [],
   "source": [
    "#Veo que archivos tengo en esa carpeta\n",
    "import os\n",
    "import pandas as pd\n",
    "#read the path\n",
    "file_path = \"C:/Users/Control 2/Documents/ely python/Noviembre/Interurbano/\"\n",
    "#list all the files from the directory\n",
    "file_list = os.listdir(file_path)\n",
    "file_list"
   ]
  },
  {
   "cell_type": "code",
   "execution_count": null,
   "metadata": {},
   "outputs": [],
   "source": [
    "#read the csv file into a dataframe\n",
    "df1 = pd.read_csv(\"C:/Users/Control 2/Documents/ely python/Noviembre/Interurbano/BEG/BEG 2022 Noviembre Interurbano part 1.csv\")"
   ]
  },
  {
   "cell_type": "code",
   "execution_count": null,
   "metadata": {},
   "outputs": [],
   "source": [
    "df2 = pd.read_csv(\"C:/Users/Control 2/Documents/ely python/Noviembre/Interurbano/BEG/BEG 2022 Noviembre Interurbano part 2.csv\")"
   ]
  },
  {
   "cell_type": "code",
   "execution_count": null,
   "metadata": {},
   "outputs": [],
   "source": [
    "df = pd.concat([df1, df2], ignore_index=True, sort=False)"
   ]
  },
  {
   "cell_type": "code",
   "execution_count": null,
   "metadata": {},
   "outputs": [],
   "source": [
    "df['PROGRAMA'] = 'BEG'"
   ]
  },
  {
   "cell_type": "code",
   "execution_count": null,
   "metadata": {},
   "outputs": [],
   "source": [
    "df.head(5)"
   ]
  },
  {
   "cell_type": "markdown",
   "metadata": {},
   "source": [
    "### Opcion B\n",
    "Esta opcion no sirve para unir los BEG porque piensan que son objetos distintos, pero sirve para concatenar el BAM y el BOS"
   ]
  },
  {
   "cell_type": "code",
   "execution_count": 2,
   "metadata": {},
   "outputs": [
    {
     "name": "stderr",
     "output_type": "stream",
     "text": [
      "C:\\Users\\Control 2\\AppData\\Local\\Temp\\ipykernel_5092\\55097586.py:13: FutureWarning: The error_bad_lines argument has been deprecated and will be removed in a future version. Use on_bad_lines in the future.\n",
      "\n",
      "\n",
      "  df = pd.read_csv(folder + str(file), error_bad_lines=False, warn_bad_lines=False)\n",
      "C:\\Users\\Control 2\\AppData\\Local\\Temp\\ipykernel_5092\\55097586.py:13: FutureWarning: The warn_bad_lines argument has been deprecated and will be removed in a future version. Use on_bad_lines in the future.\n",
      "\n",
      "\n",
      "  df = pd.read_csv(folder + str(file), error_bad_lines=False, warn_bad_lines=False)\n",
      "C:\\Users\\Control 2\\AppData\\Local\\Temp\\ipykernel_5092\\55097586.py:13: FutureWarning: The error_bad_lines argument has been deprecated and will be removed in a future version. Use on_bad_lines in the future.\n",
      "\n",
      "\n",
      "  df = pd.read_csv(folder + str(file), error_bad_lines=False, warn_bad_lines=False)\n",
      "C:\\Users\\Control 2\\AppData\\Local\\Temp\\ipykernel_5092\\55097586.py:13: FutureWarning: The warn_bad_lines argument has been deprecated and will be removed in a future version. Use on_bad_lines in the future.\n",
      "\n",
      "\n",
      "  df = pd.read_csv(folder + str(file), error_bad_lines=False, warn_bad_lines=False)\n"
     ]
    }
   ],
   "source": [
    "\"\"\"Se define ruta de los archivos\"\"\"\n",
    "folder = 'C:/Users/Control 2/Documents/ely python/Noviembre/Interurbano/'\n",
    "\n",
    "\n",
    "\"\"\"Se genera la lista de todos los archivos con las dos opciones, lista entera o manual\"\"\"\n",
    "filelist = [file for file in os.listdir(folder) if file.endswith('BEG 2022 Mayo Interurbano.csv')]\n",
    "filelist = [file for file in os.listdir(folder)]\n",
    "\n",
    "dataframe = []\n",
    "\n",
    "for file in filelist:\n",
    "    try:\n",
    "        df = pd.read_csv(folder + str(file), error_bad_lines=False, warn_bad_lines=False)\n",
    "        \n",
    "        df['file'] = str(file)\n",
    "        df['PROGRAMA'] = df['file'].str[0:3]\n",
    "        df = df.drop(columns='file')\n",
    "        dataframe.append(df)\n",
    "    except OSError:\n",
    "        pass\n",
    "\n",
    "df = pd.concat(dataframe, axis=0)"
   ]
  },
  {
   "cell_type": "code",
   "execution_count": null,
   "metadata": {},
   "outputs": [],
   "source": [
    "#df = 'C:/Users/usuario/Desktop/Secretaría Tpte - 2021/Boletos - Python/Movimientos boletos 2022/Interurbano/BEG/BEG 2022 Abril Interurbano.xlsx'"
   ]
  },
  {
   "cell_type": "code",
   "execution_count": 3,
   "metadata": {},
   "outputs": [
    {
     "data": {
      "text/plain": [
       "Index(['ID_AUTORIZACION', 'CUIL', 'ID_ORIGEN', 'ID_DESTINO', 'ID_EMPRESA',\n",
       "       'INICIO_FRANJA_HORARIA', 'FINAL_FRANJA_HORARIA', 'CANT_USO_X_DIA',\n",
       "       'CANT_USO_X_MES', 'CANT_USO_X_DIA_SEM', 'CANT_USO_X_SEMANA',\n",
       "       'ID_TIPO_SOLICITANTE', 'VIAJA_FERIADO_SN', 'FEC_DESDE', 'FEC_HASTA',\n",
       "       'ID_NIVEL_EDUCATIVO', 'EXCEP', 'ID_DISTANCIA', 'ID_MOVIMIENTO',\n",
       "       'FEC_MOVIMIENTO', 'ID_ORIGEN.1', 'ID_DESTINO.1', 'ID_PROGRAMA',\n",
       "       'UID_TARJETA', 'LATITUD', 'LONGITUD', 'NRO_INTERNO',\n",
       "       'ID_ADMINISTRADORA', 'VALIDADO_SN', 'VALORIZAR_SN', 'FEC_LIQUIDACION',\n",
       "       'LIQUIDADO_SN', 'CUIT_TRANSPORTISTA', 'PRECIO_GOBIERNO',\n",
       "       'PRECIO_VALORIZADO', 'ID_RESULTADO', 'ID_EMPRESA.1', 'FEC_INGRESO',\n",
       "       'MONTO_ULTIMO', 'PROGRAMA'],\n",
       "      dtype='object')"
      ]
     },
     "execution_count": 3,
     "metadata": {},
     "output_type": "execute_result"
    }
   ],
   "source": [
    "df.columns"
   ]
  },
  {
   "cell_type": "markdown",
   "metadata": {},
   "source": [
    "#### Lectura Tablas Referencias"
   ]
  },
  {
   "cell_type": "markdown",
   "metadata": {},
   "source": [
    "Además del input principal que es la tabla de movimientos. Para poder trabajar se necesita cargar el archivo que contiene las referencias para las variables codificadas. El procedimiento es el mismo. Se define una ruta para el achivo y luego se lo llama. En este caso, se generaron a partir del mismo archivo, tres tablas distintas cada una conteniendo información de una hoja distinta del archivo excel."
   ]
  },
  {
   "cell_type": "code",
   "execution_count": 4,
   "metadata": {},
   "outputs": [],
   "source": [
    "path = 'C:/Users/Control 2/Dropbox/TRANSPORTE/BOLETOS/Python Scripts/Referencias.xlsx'\n",
    "\n",
    "tipo_solicitante = pd.read_excel(path, sheet_name = 'TIPO_SOLICITANTE', engine='openpyxl')\n",
    "nivel_educativo = pd.read_excel(path, sheet_name = 'NIVEL_EDUCATIVO', engine='openpyxl')\n",
    "empresas = pd.read_excel(path, sheet_name = 'EMPRESAS', engine='openpyxl')"
   ]
  },
  {
   "cell_type": "markdown",
   "metadata": {},
   "source": [
    "#### Definición Archivo donde se guardarán todos los resultados obtenidos en esta notebook"
   ]
  },
  {
   "cell_type": "markdown",
   "metadata": {},
   "source": [
    "Antes de comenzar el análisis, creamos un archivo excel vacío donde iremos guardando cada uno de los resultados obtenidos en los siguientes pasos. Acá nuevamente es necesario indicar una ruta y colocarle un nombre al archivo."
   ]
  },
  {
   "cell_type": "code",
   "execution_count": 5,
   "metadata": {},
   "outputs": [],
   "source": [
    "writer = pd.ExcelWriter('C:/Users/Control 2/Documents/ely python/Noviembre/MOV_INTER_Noviembre_2022_BAMBOS.xlsx', engine='xlsxwriter')"
   ]
  },
  {
   "cell_type": "markdown",
   "metadata": {},
   "source": [
    "#### Cambio Formato Fecha"
   ]
  },
  {
   "cell_type": "markdown",
   "metadata": {},
   "source": [
    "El formato con el que viene la fecha originalmente en la tabla no es conveniente para trabajar por lo que generamos variables nuevas que indiquen el dia, mes y año del movimiento."
   ]
  },
  {
   "cell_type": "code",
   "execution_count": 6,
   "metadata": {},
   "outputs": [],
   "source": [
    "base_inter = df"
   ]
  },
  {
   "cell_type": "code",
   "execution_count": 7,
   "metadata": {
    "scrolled": true
   },
   "outputs": [
    {
     "data": {
      "text/html": [
       "<div>\n",
       "<style scoped>\n",
       "    .dataframe tbody tr th:only-of-type {\n",
       "        vertical-align: middle;\n",
       "    }\n",
       "\n",
       "    .dataframe tbody tr th {\n",
       "        vertical-align: top;\n",
       "    }\n",
       "\n",
       "    .dataframe thead th {\n",
       "        text-align: right;\n",
       "    }\n",
       "</style>\n",
       "<table border=\"1\" class=\"dataframe\">\n",
       "  <thead>\n",
       "    <tr style=\"text-align: right;\">\n",
       "      <th></th>\n",
       "      <th>ID_AUTORIZACION</th>\n",
       "      <th>CUIL</th>\n",
       "      <th>ID_ORIGEN</th>\n",
       "      <th>ID_DESTINO</th>\n",
       "      <th>ID_EMPRESA</th>\n",
       "      <th>INICIO_FRANJA_HORARIA</th>\n",
       "      <th>FINAL_FRANJA_HORARIA</th>\n",
       "      <th>CANT_USO_X_DIA</th>\n",
       "      <th>CANT_USO_X_MES</th>\n",
       "      <th>CANT_USO_X_DIA_SEM</th>\n",
       "      <th>CANT_USO_X_SEMANA</th>\n",
       "      <th>ID_TIPO_SOLICITANTE</th>\n",
       "      <th>VIAJA_FERIADO_SN</th>\n",
       "      <th>FEC_DESDE</th>\n",
       "      <th>FEC_HASTA</th>\n",
       "      <th>ID_NIVEL_EDUCATIVO</th>\n",
       "      <th>EXCEP</th>\n",
       "      <th>ID_DISTANCIA</th>\n",
       "      <th>ID_MOVIMIENTO</th>\n",
       "      <th>FEC_MOVIMIENTO</th>\n",
       "      <th>ID_ORIGEN.1</th>\n",
       "      <th>ID_DESTINO.1</th>\n",
       "      <th>ID_PROGRAMA</th>\n",
       "      <th>UID_TARJETA</th>\n",
       "      <th>LATITUD</th>\n",
       "      <th>LONGITUD</th>\n",
       "      <th>NRO_INTERNO</th>\n",
       "      <th>ID_ADMINISTRADORA</th>\n",
       "      <th>VALIDADO_SN</th>\n",
       "      <th>VALORIZAR_SN</th>\n",
       "      <th>FEC_LIQUIDACION</th>\n",
       "      <th>LIQUIDADO_SN</th>\n",
       "      <th>CUIT_TRANSPORTISTA</th>\n",
       "      <th>PRECIO_GOBIERNO</th>\n",
       "      <th>PRECIO_VALORIZADO</th>\n",
       "      <th>ID_RESULTADO</th>\n",
       "      <th>ID_EMPRESA.1</th>\n",
       "      <th>FEC_INGRESO</th>\n",
       "      <th>MONTO_ULTIMO</th>\n",
       "      <th>PROGRAMA</th>\n",
       "      <th>DIA_MOVIMIENTO</th>\n",
       "      <th>ANO_MES_MOVIMIENTO</th>\n",
       "      <th>ANO_MOVIMIENTO</th>\n",
       "    </tr>\n",
       "  </thead>\n",
       "  <tbody>\n",
       "    <tr>\n",
       "      <th>0</th>\n",
       "      <td>4328075</td>\n",
       "      <td>27027567237</td>\n",
       "      <td>1092.0</td>\n",
       "      <td>1343.0</td>\n",
       "      <td>673</td>\n",
       "      <td>00:00</td>\n",
       "      <td>23:59</td>\n",
       "      <td>2</td>\n",
       "      <td>0</td>\n",
       "      <td>0</td>\n",
       "      <td>0</td>\n",
       "      <td>8</td>\n",
       "      <td>S</td>\n",
       "      <td>12/09/2019 09:13:41 a.m.</td>\n",
       "      <td>19/09/2019</td>\n",
       "      <td>NaN</td>\n",
       "      <td>NaN</td>\n",
       "      <td>6.0</td>\n",
       "      <td>154828600</td>\n",
       "      <td>11/11/2022 01:14:08 p.m.</td>\n",
       "      <td>1092</td>\n",
       "      <td>1343</td>\n",
       "      <td>3</td>\n",
       "      <td>4987AD76</td>\n",
       "      <td>30.980131</td>\n",
       "      <td>64.094316</td>\n",
       "      <td>690</td>\n",
       "      <td>1</td>\n",
       "      <td>S</td>\n",
       "      <td>S</td>\n",
       "      <td>NaN</td>\n",
       "      <td>NaN</td>\n",
       "      <td>30678714344</td>\n",
       "      <td>NaN</td>\n",
       "      <td>214,9125</td>\n",
       "      <td>3</td>\n",
       "      <td>673</td>\n",
       "      <td>12/11/2022 12:00:51 a.m.</td>\n",
       "      <td>9891,92</td>\n",
       "      <td>BAM</td>\n",
       "      <td>11/11/2022</td>\n",
       "      <td>11/2022</td>\n",
       "      <td>2022</td>\n",
       "    </tr>\n",
       "    <tr>\n",
       "      <th>1</th>\n",
       "      <td>4695462</td>\n",
       "      <td>20084531155</td>\n",
       "      <td>1248.0</td>\n",
       "      <td>1.0</td>\n",
       "      <td>677</td>\n",
       "      <td>00:00</td>\n",
       "      <td>23:59</td>\n",
       "      <td>2</td>\n",
       "      <td>0</td>\n",
       "      <td>0</td>\n",
       "      <td>0</td>\n",
       "      <td>8</td>\n",
       "      <td>S</td>\n",
       "      <td>26/10/2019 12:18:32 p.m.</td>\n",
       "      <td>02/11/2019</td>\n",
       "      <td>NaN</td>\n",
       "      <td>NaN</td>\n",
       "      <td>6.0</td>\n",
       "      <td>154906161</td>\n",
       "      <td>14/11/2022 05:02:28 p.m.</td>\n",
       "      <td>1</td>\n",
       "      <td>201</td>\n",
       "      <td>3</td>\n",
       "      <td>69DABF76</td>\n",
       "      <td>31.425068</td>\n",
       "      <td>64.172750</td>\n",
       "      <td>5100</td>\n",
       "      <td>1</td>\n",
       "      <td>S</td>\n",
       "      <td>S</td>\n",
       "      <td>NaN</td>\n",
       "      <td>NaN</td>\n",
       "      <td>30707788832</td>\n",
       "      <td>NaN</td>\n",
       "      <td>287,6475</td>\n",
       "      <td>3</td>\n",
       "      <td>677</td>\n",
       "      <td>15/11/2022 12:46:00 a.m.</td>\n",
       "      <td>8992,37</td>\n",
       "      <td>BAM</td>\n",
       "      <td>14/11/2022</td>\n",
       "      <td>11/2022</td>\n",
       "      <td>2022</td>\n",
       "    </tr>\n",
       "    <tr>\n",
       "      <th>2</th>\n",
       "      <td>4852194</td>\n",
       "      <td>27100483667</td>\n",
       "      <td>1.0</td>\n",
       "      <td>1445.0</td>\n",
       "      <td>677</td>\n",
       "      <td>00:00</td>\n",
       "      <td>23:59</td>\n",
       "      <td>2</td>\n",
       "      <td>0</td>\n",
       "      <td>0</td>\n",
       "      <td>0</td>\n",
       "      <td>8</td>\n",
       "      <td>S</td>\n",
       "      <td>13/11/2019 12:30:10 p.m.</td>\n",
       "      <td>20/11/2019</td>\n",
       "      <td>NaN</td>\n",
       "      <td>NaN</td>\n",
       "      <td>6.0</td>\n",
       "      <td>155270018</td>\n",
       "      <td>21/11/2022 07:22:30 p.m.</td>\n",
       "      <td>1</td>\n",
       "      <td>1445</td>\n",
       "      <td>3</td>\n",
       "      <td>29A4C076</td>\n",
       "      <td>31.350008</td>\n",
       "      <td>64.176090</td>\n",
       "      <td>5239</td>\n",
       "      <td>1</td>\n",
       "      <td>S</td>\n",
       "      <td>S</td>\n",
       "      <td>NaN</td>\n",
       "      <td>NaN</td>\n",
       "      <td>30707788832</td>\n",
       "      <td>NaN</td>\n",
       "      <td>168,8625</td>\n",
       "      <td>3</td>\n",
       "      <td>677</td>\n",
       "      <td>22/11/2022 12:14:06 a.m.</td>\n",
       "      <td>13131,31</td>\n",
       "      <td>BAM</td>\n",
       "      <td>21/11/2022</td>\n",
       "      <td>11/2022</td>\n",
       "      <td>2022</td>\n",
       "    </tr>\n",
       "    <tr>\n",
       "      <th>3</th>\n",
       "      <td>4958275</td>\n",
       "      <td>20079767213</td>\n",
       "      <td>1248.0</td>\n",
       "      <td>1.0</td>\n",
       "      <td>677</td>\n",
       "      <td>00:00</td>\n",
       "      <td>23:59</td>\n",
       "      <td>2</td>\n",
       "      <td>0</td>\n",
       "      <td>0</td>\n",
       "      <td>0</td>\n",
       "      <td>8</td>\n",
       "      <td>S</td>\n",
       "      <td>27/11/2019 11:08:20 a.m.</td>\n",
       "      <td>04/12/2019</td>\n",
       "      <td>NaN</td>\n",
       "      <td>NaN</td>\n",
       "      <td>6.0</td>\n",
       "      <td>154518780</td>\n",
       "      <td>09/11/2022 06:52:46 p.m.</td>\n",
       "      <td>1</td>\n",
       "      <td>1248</td>\n",
       "      <td>3</td>\n",
       "      <td>99CBEB33</td>\n",
       "      <td>31.424975</td>\n",
       "      <td>64.172483</td>\n",
       "      <td>5117</td>\n",
       "      <td>1</td>\n",
       "      <td>S</td>\n",
       "      <td>S</td>\n",
       "      <td>NaN</td>\n",
       "      <td>NaN</td>\n",
       "      <td>30707788832</td>\n",
       "      <td>NaN</td>\n",
       "      <td>287,6475</td>\n",
       "      <td>3</td>\n",
       "      <td>677</td>\n",
       "      <td>10/11/2022 02:10:54 p.m.</td>\n",
       "      <td>8757,48</td>\n",
       "      <td>BAM</td>\n",
       "      <td>09/11/2022</td>\n",
       "      <td>11/2022</td>\n",
       "      <td>2022</td>\n",
       "    </tr>\n",
       "    <tr>\n",
       "      <th>4</th>\n",
       "      <td>5208916</td>\n",
       "      <td>27101141492</td>\n",
       "      <td>6103.0</td>\n",
       "      <td>1498.0</td>\n",
       "      <td>677</td>\n",
       "      <td>00:00</td>\n",
       "      <td>23:59</td>\n",
       "      <td>2</td>\n",
       "      <td>0</td>\n",
       "      <td>0</td>\n",
       "      <td>0</td>\n",
       "      <td>8</td>\n",
       "      <td>S</td>\n",
       "      <td>27/12/2019 01:35:00 p.m.</td>\n",
       "      <td>03/01/2020</td>\n",
       "      <td>NaN</td>\n",
       "      <td>NaN</td>\n",
       "      <td>6.0</td>\n",
       "      <td>155623546</td>\n",
       "      <td>26/11/2022 03:26:31 p.m.</td>\n",
       "      <td>1498</td>\n",
       "      <td>1092</td>\n",
       "      <td>3</td>\n",
       "      <td>79DB7C1D</td>\n",
       "      <td>31.274548</td>\n",
       "      <td>64.169763</td>\n",
       "      <td>5223</td>\n",
       "      <td>1</td>\n",
       "      <td>S</td>\n",
       "      <td>N</td>\n",
       "      <td>NaN</td>\n",
       "      <td>NaN</td>\n",
       "      <td>30707788832</td>\n",
       "      <td>NaN</td>\n",
       "      <td>NaN</td>\n",
       "      <td>3</td>\n",
       "      <td>677</td>\n",
       "      <td>27/11/2022 12:12:22 a.m.</td>\n",
       "      <td>10100,00</td>\n",
       "      <td>BAM</td>\n",
       "      <td>26/11/2022</td>\n",
       "      <td>11/2022</td>\n",
       "      <td>2022</td>\n",
       "    </tr>\n",
       "  </tbody>\n",
       "</table>\n",
       "</div>"
      ],
      "text/plain": [
       "   ID_AUTORIZACION         CUIL  ID_ORIGEN  ID_DESTINO  ID_EMPRESA  \\\n",
       "0          4328075  27027567237     1092.0      1343.0         673   \n",
       "1          4695462  20084531155     1248.0         1.0         677   \n",
       "2          4852194  27100483667        1.0      1445.0         677   \n",
       "3          4958275  20079767213     1248.0         1.0         677   \n",
       "4          5208916  27101141492     6103.0      1498.0         677   \n",
       "\n",
       "  INICIO_FRANJA_HORARIA FINAL_FRANJA_HORARIA  CANT_USO_X_DIA  CANT_USO_X_MES  \\\n",
       "0                 00:00                23:59               2               0   \n",
       "1                 00:00                23:59               2               0   \n",
       "2                 00:00                23:59               2               0   \n",
       "3                 00:00                23:59               2               0   \n",
       "4                 00:00                23:59               2               0   \n",
       "\n",
       "   CANT_USO_X_DIA_SEM  CANT_USO_X_SEMANA  ID_TIPO_SOLICITANTE  \\\n",
       "0                   0                  0                    8   \n",
       "1                   0                  0                    8   \n",
       "2                   0                  0                    8   \n",
       "3                   0                  0                    8   \n",
       "4                   0                  0                    8   \n",
       "\n",
       "  VIAJA_FERIADO_SN                 FEC_DESDE   FEC_HASTA  ID_NIVEL_EDUCATIVO  \\\n",
       "0                S  12/09/2019 09:13:41 a.m.  19/09/2019                 NaN   \n",
       "1                S  26/10/2019 12:18:32 p.m.  02/11/2019                 NaN   \n",
       "2                S  13/11/2019 12:30:10 p.m.  20/11/2019                 NaN   \n",
       "3                S  27/11/2019 11:08:20 a.m.  04/12/2019                 NaN   \n",
       "4                S  27/12/2019 01:35:00 p.m.  03/01/2020                 NaN   \n",
       "\n",
       "  EXCEP  ID_DISTANCIA  ID_MOVIMIENTO            FEC_MOVIMIENTO  ID_ORIGEN.1  \\\n",
       "0   NaN           6.0      154828600  11/11/2022 01:14:08 p.m.         1092   \n",
       "1   NaN           6.0      154906161  14/11/2022 05:02:28 p.m.            1   \n",
       "2   NaN           6.0      155270018  21/11/2022 07:22:30 p.m.            1   \n",
       "3   NaN           6.0      154518780  09/11/2022 06:52:46 p.m.            1   \n",
       "4   NaN           6.0      155623546  26/11/2022 03:26:31 p.m.         1498   \n",
       "\n",
       "   ID_DESTINO.1  ID_PROGRAMA UID_TARJETA    LATITUD   LONGITUD  NRO_INTERNO  \\\n",
       "0          1343            3    4987AD76  30.980131  64.094316          690   \n",
       "1           201            3    69DABF76  31.425068  64.172750         5100   \n",
       "2          1445            3    29A4C076  31.350008  64.176090         5239   \n",
       "3          1248            3    99CBEB33  31.424975  64.172483         5117   \n",
       "4          1092            3    79DB7C1D  31.274548  64.169763         5223   \n",
       "\n",
       "   ID_ADMINISTRADORA VALIDADO_SN VALORIZAR_SN FEC_LIQUIDACION LIQUIDADO_SN  \\\n",
       "0                  1           S            S             NaN          NaN   \n",
       "1                  1           S            S             NaN          NaN   \n",
       "2                  1           S            S             NaN          NaN   \n",
       "3                  1           S            S             NaN          NaN   \n",
       "4                  1           S            N             NaN          NaN   \n",
       "\n",
       "   CUIT_TRANSPORTISTA  PRECIO_GOBIERNO PRECIO_VALORIZADO  ID_RESULTADO  \\\n",
       "0         30678714344              NaN          214,9125             3   \n",
       "1         30707788832              NaN          287,6475             3   \n",
       "2         30707788832              NaN          168,8625             3   \n",
       "3         30707788832              NaN          287,6475             3   \n",
       "4         30707788832              NaN               NaN             3   \n",
       "\n",
       "   ID_EMPRESA.1               FEC_INGRESO MONTO_ULTIMO PROGRAMA  \\\n",
       "0           673  12/11/2022 12:00:51 a.m.      9891,92      BAM   \n",
       "1           677  15/11/2022 12:46:00 a.m.      8992,37      BAM   \n",
       "2           677  22/11/2022 12:14:06 a.m.     13131,31      BAM   \n",
       "3           677  10/11/2022 02:10:54 p.m.      8757,48      BAM   \n",
       "4           677  27/11/2022 12:12:22 a.m.     10100,00      BAM   \n",
       "\n",
       "  DIA_MOVIMIENTO ANO_MES_MOVIMIENTO ANO_MOVIMIENTO  \n",
       "0     11/11/2022            11/2022           2022  \n",
       "1     14/11/2022            11/2022           2022  \n",
       "2     21/11/2022            11/2022           2022  \n",
       "3     09/11/2022            11/2022           2022  \n",
       "4     26/11/2022            11/2022           2022  "
      ]
     },
     "execution_count": 7,
     "metadata": {},
     "output_type": "execute_result"
    }
   ],
   "source": [
    "base_inter = df\n",
    "base_inter['DIA_MOVIMIENTO'] = base_inter['FEC_MOVIMIENTO'].str[0:10]\n",
    "base_inter['ANO_MES_MOVIMIENTO'] = base_inter['FEC_MOVIMIENTO'].str[3:10]\n",
    "base_inter['ANO_MOVIMIENTO'] = base_inter['FEC_MOVIMIENTO'].str[6:10]\n",
    "base_inter.head(5)"
   ]
  },
  {
   "cell_type": "markdown",
   "metadata": {},
   "source": [
    "## Veo como es el archivo"
   ]
  },
  {
   "cell_type": "code",
   "execution_count": 8,
   "metadata": {},
   "outputs": [
    {
     "data": {
      "text/plain": [
       "(52862, 43)"
      ]
     },
     "execution_count": 8,
     "metadata": {},
     "output_type": "execute_result"
    }
   ],
   "source": [
    "base_inter.shape"
   ]
  },
  {
   "cell_type": "code",
   "execution_count": 9,
   "metadata": {},
   "outputs": [
    {
     "data": {
      "text/plain": [
       "6.0    19947\n",
       "4.0    19377\n",
       "7.0    13135\n",
       "5.0      146\n",
       "Name: ID_DISTANCIA, dtype: int64"
      ]
     },
     "execution_count": 9,
     "metadata": {},
     "output_type": "execute_result"
    }
   ],
   "source": [
    "pd.value_counts (base_inter['ID_DISTANCIA'])"
   ]
  },
  {
   "cell_type": "code",
   "execution_count": 10,
   "metadata": {},
   "outputs": [
    {
     "data": {
      "text/plain": [
       "1    50955\n",
       "3     1907\n",
       "Name: ID_RESULTADO, dtype: int64"
      ]
     },
     "execution_count": 10,
     "metadata": {},
     "output_type": "execute_result"
    }
   ],
   "source": [
    "pd.value_counts (base_inter['ID_RESULTADO'])"
   ]
  },
  {
   "cell_type": "code",
   "execution_count": 11,
   "metadata": {
    "scrolled": true
   },
   "outputs": [
    {
     "data": {
      "text/plain": [
       "S    50843\n",
       "Name: LIQUIDADO_SN, dtype: int64"
      ]
     },
     "execution_count": 11,
     "metadata": {},
     "output_type": "execute_result"
    }
   ],
   "source": [
    "base_inter['LIQUIDADO_SN'].value_counts()"
   ]
  },
  {
   "cell_type": "markdown",
   "metadata": {},
   "source": [
    "##### Veo los movimientos por dia para ver como voy\n",
    "Recordar los dias que no aparezcan es porque fue feriado, ojo si no es feriado preguntar a Maxi, si es paro tampoco hay"
   ]
  },
  {
   "cell_type": "code",
   "execution_count": 12,
   "metadata": {},
   "outputs": [],
   "source": [
    "#base_inter.groupby(['DIA_MOVIMIENTO', 'PROGRAMA']).agg({'ID_MOVIMIENTO':'count'}).reset_index()"
   ]
  },
  {
   "cell_type": "markdown",
   "metadata": {},
   "source": [
    "cuales son los rechazon"
   ]
  },
  {
   "cell_type": "code",
   "execution_count": 13,
   "metadata": {},
   "outputs": [],
   "source": [
    "#table7 = pd.pivot_table(base_inter, values ='ID_MOVIMIENTO', index =['ID_EMPRESA'],\n",
    "#                         columns =['ID_DISTANCIA'], aggfunc = 'count')\n",
    "#table7"
   ]
  },
  {
   "cell_type": "code",
   "execution_count": 14,
   "metadata": {},
   "outputs": [],
   "source": [
    "#table7.plot(kind='bar', figsize=(25, 10)).set_title('Cantidad de movimientos por Empresa y Distancia \\n', fontweight='bold', fontsize=16)\n",
    "#plt.ylabel('Cantidad de autorizaciones', fontsize=14)"
   ]
  },
  {
   "cell_type": "markdown",
   "metadata": {},
   "source": [
    "## BUSCO UN SERVICIO EN ESPECIAL"
   ]
  },
  {
   "cell_type": "code",
   "execution_count": 15,
   "metadata": {},
   "outputs": [],
   "source": [
    "#cole = base_inter.loc[base_inter['ID_EMPRESA']== 679]\n",
    "#cole.head(10)"
   ]
  },
  {
   "cell_type": "markdown",
   "metadata": {},
   "source": [
    "#### Formato Distancia - Agrega Columna \"TIPO_INTER\""
   ]
  },
  {
   "cell_type": "code",
   "execution_count": 16,
   "metadata": {},
   "outputs": [
    {
     "data": {
      "text/plain": [
       "(52862, 43)"
      ]
     },
     "execution_count": 16,
     "metadata": {},
     "output_type": "execute_result"
    }
   ],
   "source": [
    "base_inter.shape"
   ]
  },
  {
   "cell_type": "code",
   "execution_count": 17,
   "metadata": {},
   "outputs": [],
   "source": [
    "#string indices must be integersdic = {1: 'Urbanos', 2:'Interurbano menos de 100km', 3:'Interurbano mas de 100km', 4:'Interurbano menos de 100km', 6:'Interurbano menos de 60km', 7:'Interurbano mas de 60km'}\n",
    "#base_inter['TIPO_INTER'] = base_inter['ID_DISTANCIA'].map(dic)\n",
    "#base_inter"
   ]
  },
  {
   "cell_type": "markdown",
   "metadata": {},
   "source": [
    "## Creo la clasificación de + 100 km - 100km"
   ]
  },
  {
   "cell_type": "code",
   "execution_count": 18,
   "metadata": {
    "scrolled": true
   },
   "outputs": [
    {
     "data": {
      "text/html": [
       "<div>\n",
       "<style scoped>\n",
       "    .dataframe tbody tr th:only-of-type {\n",
       "        vertical-align: middle;\n",
       "    }\n",
       "\n",
       "    .dataframe tbody tr th {\n",
       "        vertical-align: top;\n",
       "    }\n",
       "\n",
       "    .dataframe thead th {\n",
       "        text-align: right;\n",
       "    }\n",
       "</style>\n",
       "<table border=\"1\" class=\"dataframe\">\n",
       "  <thead>\n",
       "    <tr style=\"text-align: right;\">\n",
       "      <th></th>\n",
       "      <th>ID_AUTORIZACION</th>\n",
       "      <th>CUIL</th>\n",
       "      <th>ID_ORIGEN</th>\n",
       "      <th>ID_DESTINO</th>\n",
       "      <th>ID_EMPRESA</th>\n",
       "      <th>INICIO_FRANJA_HORARIA</th>\n",
       "      <th>FINAL_FRANJA_HORARIA</th>\n",
       "      <th>CANT_USO_X_DIA</th>\n",
       "      <th>CANT_USO_X_MES</th>\n",
       "      <th>CANT_USO_X_DIA_SEM</th>\n",
       "      <th>CANT_USO_X_SEMANA</th>\n",
       "      <th>ID_TIPO_SOLICITANTE</th>\n",
       "      <th>VIAJA_FERIADO_SN</th>\n",
       "      <th>FEC_DESDE</th>\n",
       "      <th>FEC_HASTA</th>\n",
       "      <th>ID_NIVEL_EDUCATIVO</th>\n",
       "      <th>EXCEP</th>\n",
       "      <th>ID_DISTANCIA</th>\n",
       "      <th>ID_MOVIMIENTO</th>\n",
       "      <th>FEC_MOVIMIENTO</th>\n",
       "      <th>ID_ORIGEN.1</th>\n",
       "      <th>ID_DESTINO.1</th>\n",
       "      <th>ID_PROGRAMA</th>\n",
       "      <th>UID_TARJETA</th>\n",
       "      <th>LATITUD</th>\n",
       "      <th>LONGITUD</th>\n",
       "      <th>NRO_INTERNO</th>\n",
       "      <th>ID_ADMINISTRADORA</th>\n",
       "      <th>VALIDADO_SN</th>\n",
       "      <th>VALORIZAR_SN</th>\n",
       "      <th>FEC_LIQUIDACION</th>\n",
       "      <th>LIQUIDADO_SN</th>\n",
       "      <th>CUIT_TRANSPORTISTA</th>\n",
       "      <th>PRECIO_GOBIERNO</th>\n",
       "      <th>PRECIO_VALORIZADO</th>\n",
       "      <th>ID_RESULTADO</th>\n",
       "      <th>ID_EMPRESA.1</th>\n",
       "      <th>FEC_INGRESO</th>\n",
       "      <th>MONTO_ULTIMO</th>\n",
       "      <th>PROGRAMA</th>\n",
       "      <th>DIA_MOVIMIENTO</th>\n",
       "      <th>ANO_MES_MOVIMIENTO</th>\n",
       "      <th>ANO_MOVIMIENTO</th>\n",
       "      <th>TIPO_INTER</th>\n",
       "      <th>TIPO_INTER_TRAMOS</th>\n",
       "    </tr>\n",
       "  </thead>\n",
       "  <tbody>\n",
       "    <tr>\n",
       "      <th>0</th>\n",
       "      <td>4328075</td>\n",
       "      <td>27027567237</td>\n",
       "      <td>1092.0</td>\n",
       "      <td>1343.0</td>\n",
       "      <td>673</td>\n",
       "      <td>00:00</td>\n",
       "      <td>23:59</td>\n",
       "      <td>2</td>\n",
       "      <td>0</td>\n",
       "      <td>0</td>\n",
       "      <td>0</td>\n",
       "      <td>8</td>\n",
       "      <td>S</td>\n",
       "      <td>12/09/2019 09:13:41 a.m.</td>\n",
       "      <td>19/09/2019</td>\n",
       "      <td>NaN</td>\n",
       "      <td>NaN</td>\n",
       "      <td>6.0</td>\n",
       "      <td>154828600</td>\n",
       "      <td>11/11/2022 01:14:08 p.m.</td>\n",
       "      <td>1092</td>\n",
       "      <td>1343</td>\n",
       "      <td>3</td>\n",
       "      <td>4987AD76</td>\n",
       "      <td>30.980131</td>\n",
       "      <td>64.094316</td>\n",
       "      <td>690</td>\n",
       "      <td>1</td>\n",
       "      <td>S</td>\n",
       "      <td>S</td>\n",
       "      <td>NaN</td>\n",
       "      <td>NaN</td>\n",
       "      <td>30678714344</td>\n",
       "      <td>NaN</td>\n",
       "      <td>214,9125</td>\n",
       "      <td>3</td>\n",
       "      <td>673</td>\n",
       "      <td>12/11/2022 12:00:51 a.m.</td>\n",
       "      <td>9891,92</td>\n",
       "      <td>BAM</td>\n",
       "      <td>11/11/2022</td>\n",
       "      <td>11/2022</td>\n",
       "      <td>2022</td>\n",
       "      <td>Interurbano más de 100km</td>\n",
       "      <td>Interurbano menos de 100km</td>\n",
       "    </tr>\n",
       "    <tr>\n",
       "      <th>1</th>\n",
       "      <td>4695462</td>\n",
       "      <td>20084531155</td>\n",
       "      <td>1248.0</td>\n",
       "      <td>1.0</td>\n",
       "      <td>677</td>\n",
       "      <td>00:00</td>\n",
       "      <td>23:59</td>\n",
       "      <td>2</td>\n",
       "      <td>0</td>\n",
       "      <td>0</td>\n",
       "      <td>0</td>\n",
       "      <td>8</td>\n",
       "      <td>S</td>\n",
       "      <td>26/10/2019 12:18:32 p.m.</td>\n",
       "      <td>02/11/2019</td>\n",
       "      <td>NaN</td>\n",
       "      <td>NaN</td>\n",
       "      <td>6.0</td>\n",
       "      <td>154906161</td>\n",
       "      <td>14/11/2022 05:02:28 p.m.</td>\n",
       "      <td>1</td>\n",
       "      <td>201</td>\n",
       "      <td>3</td>\n",
       "      <td>69DABF76</td>\n",
       "      <td>31.425068</td>\n",
       "      <td>64.172750</td>\n",
       "      <td>5100</td>\n",
       "      <td>1</td>\n",
       "      <td>S</td>\n",
       "      <td>S</td>\n",
       "      <td>NaN</td>\n",
       "      <td>NaN</td>\n",
       "      <td>30707788832</td>\n",
       "      <td>NaN</td>\n",
       "      <td>287,6475</td>\n",
       "      <td>3</td>\n",
       "      <td>677</td>\n",
       "      <td>15/11/2022 12:46:00 a.m.</td>\n",
       "      <td>8992,37</td>\n",
       "      <td>BAM</td>\n",
       "      <td>14/11/2022</td>\n",
       "      <td>11/2022</td>\n",
       "      <td>2022</td>\n",
       "      <td>Interurbano más de 100km</td>\n",
       "      <td>Interurbano menos de 100km</td>\n",
       "    </tr>\n",
       "    <tr>\n",
       "      <th>2</th>\n",
       "      <td>4852194</td>\n",
       "      <td>27100483667</td>\n",
       "      <td>1.0</td>\n",
       "      <td>1445.0</td>\n",
       "      <td>677</td>\n",
       "      <td>00:00</td>\n",
       "      <td>23:59</td>\n",
       "      <td>2</td>\n",
       "      <td>0</td>\n",
       "      <td>0</td>\n",
       "      <td>0</td>\n",
       "      <td>8</td>\n",
       "      <td>S</td>\n",
       "      <td>13/11/2019 12:30:10 p.m.</td>\n",
       "      <td>20/11/2019</td>\n",
       "      <td>NaN</td>\n",
       "      <td>NaN</td>\n",
       "      <td>6.0</td>\n",
       "      <td>155270018</td>\n",
       "      <td>21/11/2022 07:22:30 p.m.</td>\n",
       "      <td>1</td>\n",
       "      <td>1445</td>\n",
       "      <td>3</td>\n",
       "      <td>29A4C076</td>\n",
       "      <td>31.350008</td>\n",
       "      <td>64.176090</td>\n",
       "      <td>5239</td>\n",
       "      <td>1</td>\n",
       "      <td>S</td>\n",
       "      <td>S</td>\n",
       "      <td>NaN</td>\n",
       "      <td>NaN</td>\n",
       "      <td>30707788832</td>\n",
       "      <td>NaN</td>\n",
       "      <td>168,8625</td>\n",
       "      <td>3</td>\n",
       "      <td>677</td>\n",
       "      <td>22/11/2022 12:14:06 a.m.</td>\n",
       "      <td>13131,31</td>\n",
       "      <td>BAM</td>\n",
       "      <td>21/11/2022</td>\n",
       "      <td>11/2022</td>\n",
       "      <td>2022</td>\n",
       "      <td>Interurbano más de 100km</td>\n",
       "      <td>Interurbano menos de 100km</td>\n",
       "    </tr>\n",
       "    <tr>\n",
       "      <th>3</th>\n",
       "      <td>4958275</td>\n",
       "      <td>20079767213</td>\n",
       "      <td>1248.0</td>\n",
       "      <td>1.0</td>\n",
       "      <td>677</td>\n",
       "      <td>00:00</td>\n",
       "      <td>23:59</td>\n",
       "      <td>2</td>\n",
       "      <td>0</td>\n",
       "      <td>0</td>\n",
       "      <td>0</td>\n",
       "      <td>8</td>\n",
       "      <td>S</td>\n",
       "      <td>27/11/2019 11:08:20 a.m.</td>\n",
       "      <td>04/12/2019</td>\n",
       "      <td>NaN</td>\n",
       "      <td>NaN</td>\n",
       "      <td>6.0</td>\n",
       "      <td>154518780</td>\n",
       "      <td>09/11/2022 06:52:46 p.m.</td>\n",
       "      <td>1</td>\n",
       "      <td>1248</td>\n",
       "      <td>3</td>\n",
       "      <td>99CBEB33</td>\n",
       "      <td>31.424975</td>\n",
       "      <td>64.172483</td>\n",
       "      <td>5117</td>\n",
       "      <td>1</td>\n",
       "      <td>S</td>\n",
       "      <td>S</td>\n",
       "      <td>NaN</td>\n",
       "      <td>NaN</td>\n",
       "      <td>30707788832</td>\n",
       "      <td>NaN</td>\n",
       "      <td>287,6475</td>\n",
       "      <td>3</td>\n",
       "      <td>677</td>\n",
       "      <td>10/11/2022 02:10:54 p.m.</td>\n",
       "      <td>8757,48</td>\n",
       "      <td>BAM</td>\n",
       "      <td>09/11/2022</td>\n",
       "      <td>11/2022</td>\n",
       "      <td>2022</td>\n",
       "      <td>Interurbano más de 100km</td>\n",
       "      <td>Interurbano menos de 100km</td>\n",
       "    </tr>\n",
       "    <tr>\n",
       "      <th>4</th>\n",
       "      <td>5208916</td>\n",
       "      <td>27101141492</td>\n",
       "      <td>6103.0</td>\n",
       "      <td>1498.0</td>\n",
       "      <td>677</td>\n",
       "      <td>00:00</td>\n",
       "      <td>23:59</td>\n",
       "      <td>2</td>\n",
       "      <td>0</td>\n",
       "      <td>0</td>\n",
       "      <td>0</td>\n",
       "      <td>8</td>\n",
       "      <td>S</td>\n",
       "      <td>27/12/2019 01:35:00 p.m.</td>\n",
       "      <td>03/01/2020</td>\n",
       "      <td>NaN</td>\n",
       "      <td>NaN</td>\n",
       "      <td>6.0</td>\n",
       "      <td>155623546</td>\n",
       "      <td>26/11/2022 03:26:31 p.m.</td>\n",
       "      <td>1498</td>\n",
       "      <td>1092</td>\n",
       "      <td>3</td>\n",
       "      <td>79DB7C1D</td>\n",
       "      <td>31.274548</td>\n",
       "      <td>64.169763</td>\n",
       "      <td>5223</td>\n",
       "      <td>1</td>\n",
       "      <td>S</td>\n",
       "      <td>N</td>\n",
       "      <td>NaN</td>\n",
       "      <td>NaN</td>\n",
       "      <td>30707788832</td>\n",
       "      <td>NaN</td>\n",
       "      <td>NaN</td>\n",
       "      <td>3</td>\n",
       "      <td>677</td>\n",
       "      <td>27/11/2022 12:12:22 a.m.</td>\n",
       "      <td>10100,00</td>\n",
       "      <td>BAM</td>\n",
       "      <td>26/11/2022</td>\n",
       "      <td>11/2022</td>\n",
       "      <td>2022</td>\n",
       "      <td>Interurbano más de 100km</td>\n",
       "      <td>Interurbano menos de 100km</td>\n",
       "    </tr>\n",
       "  </tbody>\n",
       "</table>\n",
       "</div>"
      ],
      "text/plain": [
       "   ID_AUTORIZACION         CUIL  ID_ORIGEN  ID_DESTINO  ID_EMPRESA  \\\n",
       "0          4328075  27027567237     1092.0      1343.0         673   \n",
       "1          4695462  20084531155     1248.0         1.0         677   \n",
       "2          4852194  27100483667        1.0      1445.0         677   \n",
       "3          4958275  20079767213     1248.0         1.0         677   \n",
       "4          5208916  27101141492     6103.0      1498.0         677   \n",
       "\n",
       "  INICIO_FRANJA_HORARIA FINAL_FRANJA_HORARIA  CANT_USO_X_DIA  CANT_USO_X_MES  \\\n",
       "0                 00:00                23:59               2               0   \n",
       "1                 00:00                23:59               2               0   \n",
       "2                 00:00                23:59               2               0   \n",
       "3                 00:00                23:59               2               0   \n",
       "4                 00:00                23:59               2               0   \n",
       "\n",
       "   CANT_USO_X_DIA_SEM  CANT_USO_X_SEMANA  ID_TIPO_SOLICITANTE  \\\n",
       "0                   0                  0                    8   \n",
       "1                   0                  0                    8   \n",
       "2                   0                  0                    8   \n",
       "3                   0                  0                    8   \n",
       "4                   0                  0                    8   \n",
       "\n",
       "  VIAJA_FERIADO_SN                 FEC_DESDE   FEC_HASTA  ID_NIVEL_EDUCATIVO  \\\n",
       "0                S  12/09/2019 09:13:41 a.m.  19/09/2019                 NaN   \n",
       "1                S  26/10/2019 12:18:32 p.m.  02/11/2019                 NaN   \n",
       "2                S  13/11/2019 12:30:10 p.m.  20/11/2019                 NaN   \n",
       "3                S  27/11/2019 11:08:20 a.m.  04/12/2019                 NaN   \n",
       "4                S  27/12/2019 01:35:00 p.m.  03/01/2020                 NaN   \n",
       "\n",
       "  EXCEP  ID_DISTANCIA  ID_MOVIMIENTO            FEC_MOVIMIENTO  ID_ORIGEN.1  \\\n",
       "0   NaN           6.0      154828600  11/11/2022 01:14:08 p.m.         1092   \n",
       "1   NaN           6.0      154906161  14/11/2022 05:02:28 p.m.            1   \n",
       "2   NaN           6.0      155270018  21/11/2022 07:22:30 p.m.            1   \n",
       "3   NaN           6.0      154518780  09/11/2022 06:52:46 p.m.            1   \n",
       "4   NaN           6.0      155623546  26/11/2022 03:26:31 p.m.         1498   \n",
       "\n",
       "   ID_DESTINO.1  ID_PROGRAMA UID_TARJETA    LATITUD   LONGITUD  NRO_INTERNO  \\\n",
       "0          1343            3    4987AD76  30.980131  64.094316          690   \n",
       "1           201            3    69DABF76  31.425068  64.172750         5100   \n",
       "2          1445            3    29A4C076  31.350008  64.176090         5239   \n",
       "3          1248            3    99CBEB33  31.424975  64.172483         5117   \n",
       "4          1092            3    79DB7C1D  31.274548  64.169763         5223   \n",
       "\n",
       "   ID_ADMINISTRADORA VALIDADO_SN VALORIZAR_SN FEC_LIQUIDACION LIQUIDADO_SN  \\\n",
       "0                  1           S            S             NaN          NaN   \n",
       "1                  1           S            S             NaN          NaN   \n",
       "2                  1           S            S             NaN          NaN   \n",
       "3                  1           S            S             NaN          NaN   \n",
       "4                  1           S            N             NaN          NaN   \n",
       "\n",
       "   CUIT_TRANSPORTISTA  PRECIO_GOBIERNO PRECIO_VALORIZADO  ID_RESULTADO  \\\n",
       "0         30678714344              NaN          214,9125             3   \n",
       "1         30707788832              NaN          287,6475             3   \n",
       "2         30707788832              NaN          168,8625             3   \n",
       "3         30707788832              NaN          287,6475             3   \n",
       "4         30707788832              NaN               NaN             3   \n",
       "\n",
       "   ID_EMPRESA.1               FEC_INGRESO MONTO_ULTIMO PROGRAMA  \\\n",
       "0           673  12/11/2022 12:00:51 a.m.      9891,92      BAM   \n",
       "1           677  15/11/2022 12:46:00 a.m.      8992,37      BAM   \n",
       "2           677  22/11/2022 12:14:06 a.m.     13131,31      BAM   \n",
       "3           677  10/11/2022 02:10:54 p.m.      8757,48      BAM   \n",
       "4           677  27/11/2022 12:12:22 a.m.     10100,00      BAM   \n",
       "\n",
       "  DIA_MOVIMIENTO ANO_MES_MOVIMIENTO ANO_MOVIMIENTO                TIPO_INTER  \\\n",
       "0     11/11/2022            11/2022           2022  Interurbano más de 100km   \n",
       "1     14/11/2022            11/2022           2022  Interurbano más de 100km   \n",
       "2     21/11/2022            11/2022           2022  Interurbano más de 100km   \n",
       "3     09/11/2022            11/2022           2022  Interurbano más de 100km   \n",
       "4     26/11/2022            11/2022           2022  Interurbano más de 100km   \n",
       "\n",
       "            TIPO_INTER_TRAMOS  \n",
       "0  Interurbano menos de 100km  \n",
       "1  Interurbano menos de 100km  \n",
       "2  Interurbano menos de 100km  \n",
       "3  Interurbano menos de 100km  \n",
       "4  Interurbano menos de 100km  "
      ]
     },
     "execution_count": 18,
     "metadata": {},
     "output_type": "execute_result"
    }
   ],
   "source": [
    "base_inter['TIPO_INTER'] = np.where(base_inter['ID_DISTANCIA']==2, 'Interurbano menos de 100km', 'Interurbano más de 100km')\n",
    "base_inter['TIPO_INTER_TRAMOS'] = np.where(base_inter['ID_DISTANCIA']<=100, 'Interurbano menos de 100km', 'Interurbano más de 100km')\n",
    "base_inter.head(5)"
   ]
  },
  {
   "cell_type": "code",
   "execution_count": 19,
   "metadata": {},
   "outputs": [],
   "source": [
    "Antes=base_inter"
   ]
  },
  {
   "cell_type": "code",
   "execution_count": 20,
   "metadata": {
    "scrolled": true
   },
   "outputs": [
    {
     "data": {
      "text/plain": [
       "Interurbano más de 100km    52862\n",
       "Name: TIPO_INTER, dtype: int64"
      ]
     },
     "execution_count": 20,
     "metadata": {},
     "output_type": "execute_result"
    }
   ],
   "source": [
    "pd.value_counts (base_inter['TIPO_INTER'])"
   ]
  },
  {
   "cell_type": "markdown",
   "metadata": {},
   "source": [
    "## Filtra Errores y usos no válidos"
   ]
  },
  {
   "cell_type": "markdown",
   "metadata": {},
   "source": [
    "Hay movimientos con ID DISTANCIA = 1 esos son viajes de Urbanos. Se eliminan antes de seguir."
   ]
  },
  {
   "cell_type": "code",
   "execution_count": 21,
   "metadata": {
    "scrolled": false
   },
   "outputs": [
    {
     "data": {
      "text/html": [
       "<div>\n",
       "<style scoped>\n",
       "    .dataframe tbody tr th:only-of-type {\n",
       "        vertical-align: middle;\n",
       "    }\n",
       "\n",
       "    .dataframe tbody tr th {\n",
       "        vertical-align: top;\n",
       "    }\n",
       "\n",
       "    .dataframe thead th {\n",
       "        text-align: right;\n",
       "    }\n",
       "</style>\n",
       "<table border=\"1\" class=\"dataframe\">\n",
       "  <thead>\n",
       "    <tr style=\"text-align: right;\">\n",
       "      <th></th>\n",
       "      <th>ID_AUTORIZACION</th>\n",
       "      <th>CUIL</th>\n",
       "      <th>ID_ORIGEN</th>\n",
       "      <th>ID_DESTINO</th>\n",
       "      <th>ID_EMPRESA</th>\n",
       "      <th>INICIO_FRANJA_HORARIA</th>\n",
       "      <th>FINAL_FRANJA_HORARIA</th>\n",
       "      <th>CANT_USO_X_DIA</th>\n",
       "      <th>CANT_USO_X_MES</th>\n",
       "      <th>CANT_USO_X_DIA_SEM</th>\n",
       "      <th>CANT_USO_X_SEMANA</th>\n",
       "      <th>ID_TIPO_SOLICITANTE</th>\n",
       "      <th>VIAJA_FERIADO_SN</th>\n",
       "      <th>FEC_DESDE</th>\n",
       "      <th>FEC_HASTA</th>\n",
       "      <th>ID_NIVEL_EDUCATIVO</th>\n",
       "      <th>EXCEP</th>\n",
       "      <th>ID_DISTANCIA</th>\n",
       "      <th>ID_MOVIMIENTO</th>\n",
       "      <th>FEC_MOVIMIENTO</th>\n",
       "      <th>ID_ORIGEN.1</th>\n",
       "      <th>ID_DESTINO.1</th>\n",
       "      <th>ID_PROGRAMA</th>\n",
       "      <th>UID_TARJETA</th>\n",
       "      <th>LATITUD</th>\n",
       "      <th>LONGITUD</th>\n",
       "      <th>NRO_INTERNO</th>\n",
       "      <th>ID_ADMINISTRADORA</th>\n",
       "      <th>VALIDADO_SN</th>\n",
       "      <th>VALORIZAR_SN</th>\n",
       "      <th>FEC_LIQUIDACION</th>\n",
       "      <th>LIQUIDADO_SN</th>\n",
       "      <th>CUIT_TRANSPORTISTA</th>\n",
       "      <th>PRECIO_GOBIERNO</th>\n",
       "      <th>PRECIO_VALORIZADO</th>\n",
       "      <th>ID_RESULTADO</th>\n",
       "      <th>ID_EMPRESA.1</th>\n",
       "      <th>FEC_INGRESO</th>\n",
       "      <th>MONTO_ULTIMO</th>\n",
       "      <th>PROGRAMA</th>\n",
       "      <th>DIA_MOVIMIENTO</th>\n",
       "      <th>ANO_MES_MOVIMIENTO</th>\n",
       "      <th>ANO_MOVIMIENTO</th>\n",
       "      <th>TIPO_INTER</th>\n",
       "      <th>TIPO_INTER_TRAMOS</th>\n",
       "      <th>FILTER</th>\n",
       "    </tr>\n",
       "  </thead>\n",
       "  <tbody>\n",
       "    <tr>\n",
       "      <th>0</th>\n",
       "      <td>4328075</td>\n",
       "      <td>27027567237</td>\n",
       "      <td>1092.0</td>\n",
       "      <td>1343.0</td>\n",
       "      <td>673</td>\n",
       "      <td>00:00</td>\n",
       "      <td>23:59</td>\n",
       "      <td>2</td>\n",
       "      <td>0</td>\n",
       "      <td>0</td>\n",
       "      <td>0</td>\n",
       "      <td>8</td>\n",
       "      <td>S</td>\n",
       "      <td>12/09/2019 09:13:41 a.m.</td>\n",
       "      <td>19/09/2019</td>\n",
       "      <td>NaN</td>\n",
       "      <td>NaN</td>\n",
       "      <td>6.0</td>\n",
       "      <td>154828600</td>\n",
       "      <td>11/11/2022 01:14:08 p.m.</td>\n",
       "      <td>1092</td>\n",
       "      <td>1343</td>\n",
       "      <td>3</td>\n",
       "      <td>4987AD76</td>\n",
       "      <td>30.980131</td>\n",
       "      <td>64.094316</td>\n",
       "      <td>690</td>\n",
       "      <td>1</td>\n",
       "      <td>S</td>\n",
       "      <td>S</td>\n",
       "      <td>NaN</td>\n",
       "      <td>NaN</td>\n",
       "      <td>30678714344</td>\n",
       "      <td>NaN</td>\n",
       "      <td>214,9125</td>\n",
       "      <td>3</td>\n",
       "      <td>673</td>\n",
       "      <td>12/11/2022 12:00:51 a.m.</td>\n",
       "      <td>9891,92</td>\n",
       "      <td>BAM</td>\n",
       "      <td>11/11/2022</td>\n",
       "      <td>11/2022</td>\n",
       "      <td>2022</td>\n",
       "      <td>Interurbano más de 100km</td>\n",
       "      <td>Interurbano menos de 100km</td>\n",
       "      <td>nan</td>\n",
       "    </tr>\n",
       "    <tr>\n",
       "      <th>1</th>\n",
       "      <td>4695462</td>\n",
       "      <td>20084531155</td>\n",
       "      <td>1248.0</td>\n",
       "      <td>1.0</td>\n",
       "      <td>677</td>\n",
       "      <td>00:00</td>\n",
       "      <td>23:59</td>\n",
       "      <td>2</td>\n",
       "      <td>0</td>\n",
       "      <td>0</td>\n",
       "      <td>0</td>\n",
       "      <td>8</td>\n",
       "      <td>S</td>\n",
       "      <td>26/10/2019 12:18:32 p.m.</td>\n",
       "      <td>02/11/2019</td>\n",
       "      <td>NaN</td>\n",
       "      <td>NaN</td>\n",
       "      <td>6.0</td>\n",
       "      <td>154906161</td>\n",
       "      <td>14/11/2022 05:02:28 p.m.</td>\n",
       "      <td>1</td>\n",
       "      <td>201</td>\n",
       "      <td>3</td>\n",
       "      <td>69DABF76</td>\n",
       "      <td>31.425068</td>\n",
       "      <td>64.172750</td>\n",
       "      <td>5100</td>\n",
       "      <td>1</td>\n",
       "      <td>S</td>\n",
       "      <td>S</td>\n",
       "      <td>NaN</td>\n",
       "      <td>NaN</td>\n",
       "      <td>30707788832</td>\n",
       "      <td>NaN</td>\n",
       "      <td>287,6475</td>\n",
       "      <td>3</td>\n",
       "      <td>677</td>\n",
       "      <td>15/11/2022 12:46:00 a.m.</td>\n",
       "      <td>8992,37</td>\n",
       "      <td>BAM</td>\n",
       "      <td>14/11/2022</td>\n",
       "      <td>11/2022</td>\n",
       "      <td>2022</td>\n",
       "      <td>Interurbano más de 100km</td>\n",
       "      <td>Interurbano menos de 100km</td>\n",
       "      <td>nan</td>\n",
       "    </tr>\n",
       "    <tr>\n",
       "      <th>2</th>\n",
       "      <td>4852194</td>\n",
       "      <td>27100483667</td>\n",
       "      <td>1.0</td>\n",
       "      <td>1445.0</td>\n",
       "      <td>677</td>\n",
       "      <td>00:00</td>\n",
       "      <td>23:59</td>\n",
       "      <td>2</td>\n",
       "      <td>0</td>\n",
       "      <td>0</td>\n",
       "      <td>0</td>\n",
       "      <td>8</td>\n",
       "      <td>S</td>\n",
       "      <td>13/11/2019 12:30:10 p.m.</td>\n",
       "      <td>20/11/2019</td>\n",
       "      <td>NaN</td>\n",
       "      <td>NaN</td>\n",
       "      <td>6.0</td>\n",
       "      <td>155270018</td>\n",
       "      <td>21/11/2022 07:22:30 p.m.</td>\n",
       "      <td>1</td>\n",
       "      <td>1445</td>\n",
       "      <td>3</td>\n",
       "      <td>29A4C076</td>\n",
       "      <td>31.350008</td>\n",
       "      <td>64.176090</td>\n",
       "      <td>5239</td>\n",
       "      <td>1</td>\n",
       "      <td>S</td>\n",
       "      <td>S</td>\n",
       "      <td>NaN</td>\n",
       "      <td>NaN</td>\n",
       "      <td>30707788832</td>\n",
       "      <td>NaN</td>\n",
       "      <td>168,8625</td>\n",
       "      <td>3</td>\n",
       "      <td>677</td>\n",
       "      <td>22/11/2022 12:14:06 a.m.</td>\n",
       "      <td>13131,31</td>\n",
       "      <td>BAM</td>\n",
       "      <td>21/11/2022</td>\n",
       "      <td>11/2022</td>\n",
       "      <td>2022</td>\n",
       "      <td>Interurbano más de 100km</td>\n",
       "      <td>Interurbano menos de 100km</td>\n",
       "      <td>nan</td>\n",
       "    </tr>\n",
       "  </tbody>\n",
       "</table>\n",
       "</div>"
      ],
      "text/plain": [
       "   ID_AUTORIZACION         CUIL  ID_ORIGEN  ID_DESTINO  ID_EMPRESA  \\\n",
       "0          4328075  27027567237     1092.0      1343.0         673   \n",
       "1          4695462  20084531155     1248.0         1.0         677   \n",
       "2          4852194  27100483667        1.0      1445.0         677   \n",
       "\n",
       "  INICIO_FRANJA_HORARIA FINAL_FRANJA_HORARIA  CANT_USO_X_DIA  CANT_USO_X_MES  \\\n",
       "0                 00:00                23:59               2               0   \n",
       "1                 00:00                23:59               2               0   \n",
       "2                 00:00                23:59               2               0   \n",
       "\n",
       "   CANT_USO_X_DIA_SEM  CANT_USO_X_SEMANA  ID_TIPO_SOLICITANTE  \\\n",
       "0                   0                  0                    8   \n",
       "1                   0                  0                    8   \n",
       "2                   0                  0                    8   \n",
       "\n",
       "  VIAJA_FERIADO_SN                 FEC_DESDE   FEC_HASTA  ID_NIVEL_EDUCATIVO  \\\n",
       "0                S  12/09/2019 09:13:41 a.m.  19/09/2019                 NaN   \n",
       "1                S  26/10/2019 12:18:32 p.m.  02/11/2019                 NaN   \n",
       "2                S  13/11/2019 12:30:10 p.m.  20/11/2019                 NaN   \n",
       "\n",
       "  EXCEP  ID_DISTANCIA  ID_MOVIMIENTO            FEC_MOVIMIENTO  ID_ORIGEN.1  \\\n",
       "0   NaN           6.0      154828600  11/11/2022 01:14:08 p.m.         1092   \n",
       "1   NaN           6.0      154906161  14/11/2022 05:02:28 p.m.            1   \n",
       "2   NaN           6.0      155270018  21/11/2022 07:22:30 p.m.            1   \n",
       "\n",
       "   ID_DESTINO.1  ID_PROGRAMA UID_TARJETA    LATITUD   LONGITUD  NRO_INTERNO  \\\n",
       "0          1343            3    4987AD76  30.980131  64.094316          690   \n",
       "1           201            3    69DABF76  31.425068  64.172750         5100   \n",
       "2          1445            3    29A4C076  31.350008  64.176090         5239   \n",
       "\n",
       "   ID_ADMINISTRADORA VALIDADO_SN VALORIZAR_SN FEC_LIQUIDACION LIQUIDADO_SN  \\\n",
       "0                  1           S            S             NaN          NaN   \n",
       "1                  1           S            S             NaN          NaN   \n",
       "2                  1           S            S             NaN          NaN   \n",
       "\n",
       "   CUIT_TRANSPORTISTA  PRECIO_GOBIERNO PRECIO_VALORIZADO  ID_RESULTADO  \\\n",
       "0         30678714344              NaN          214,9125             3   \n",
       "1         30707788832              NaN          287,6475             3   \n",
       "2         30707788832              NaN          168,8625             3   \n",
       "\n",
       "   ID_EMPRESA.1               FEC_INGRESO MONTO_ULTIMO PROGRAMA  \\\n",
       "0           673  12/11/2022 12:00:51 a.m.      9891,92      BAM   \n",
       "1           677  15/11/2022 12:46:00 a.m.      8992,37      BAM   \n",
       "2           677  22/11/2022 12:14:06 a.m.     13131,31      BAM   \n",
       "\n",
       "  DIA_MOVIMIENTO ANO_MES_MOVIMIENTO ANO_MOVIMIENTO                TIPO_INTER  \\\n",
       "0     11/11/2022            11/2022           2022  Interurbano más de 100km   \n",
       "1     14/11/2022            11/2022           2022  Interurbano más de 100km   \n",
       "2     21/11/2022            11/2022           2022  Interurbano más de 100km   \n",
       "\n",
       "            TIPO_INTER_TRAMOS FILTER  \n",
       "0  Interurbano menos de 100km    nan  \n",
       "1  Interurbano menos de 100km    nan  \n",
       "2  Interurbano menos de 100km    nan  "
      ]
     },
     "execution_count": 21,
     "metadata": {},
     "output_type": "execute_result"
    }
   ],
   "source": [
    "base_inter = base_inter[base_inter['ID_DISTANCIA']!=1]\n",
    "\n",
    "lista_empresas = [4, 12, 14, 17, 687]\n",
    "\n",
    "#base_inter= base_inter[['ID_EMPRESA','ID_EMPRESA.1', 'ID_RESULTADO']]\n",
    "#CHEQUEAR QUE SOLO HAYA ESTOS CASOS EN BEG !!!!!\n",
    "base_inter['FILTER'] = np.where(base_inter['ID_EMPRESA.1'].isin(lista_empresas)&(base_inter['PROGRAMA']=='BEG')&(base_inter['ID_RESULTADO']!=1),'DROP', np.nan)\n",
    "\n",
    "#creo una ultima columna que la veo con la clasificacion nan y DROP\n",
    "base_inter.head(3)\n"
   ]
  },
  {
   "cell_type": "code",
   "execution_count": 22,
   "metadata": {},
   "outputs": [
    {
     "data": {
      "text/plain": [
       "nan    52862\n",
       "Name: FILTER, dtype: int64"
      ]
     },
     "execution_count": 22,
     "metadata": {},
     "output_type": "execute_result"
    }
   ],
   "source": [
    "#veo cuantas son las drop, las voy a sacar del analisis\n",
    "pd.value_counts (base_inter['FILTER'])"
   ]
  },
  {
   "cell_type": "code",
   "execution_count": 23,
   "metadata": {},
   "outputs": [
    {
     "data": {
      "text/html": [
       "<div>\n",
       "<style scoped>\n",
       "    .dataframe tbody tr th:only-of-type {\n",
       "        vertical-align: middle;\n",
       "    }\n",
       "\n",
       "    .dataframe tbody tr th {\n",
       "        vertical-align: top;\n",
       "    }\n",
       "\n",
       "    .dataframe thead th {\n",
       "        text-align: right;\n",
       "    }\n",
       "</style>\n",
       "<table border=\"1\" class=\"dataframe\">\n",
       "  <thead>\n",
       "    <tr style=\"text-align: right;\">\n",
       "      <th></th>\n",
       "      <th>ID_AUTORIZACION</th>\n",
       "      <th>CUIL</th>\n",
       "      <th>ID_ORIGEN</th>\n",
       "      <th>ID_DESTINO</th>\n",
       "      <th>ID_EMPRESA</th>\n",
       "      <th>INICIO_FRANJA_HORARIA</th>\n",
       "      <th>FINAL_FRANJA_HORARIA</th>\n",
       "      <th>CANT_USO_X_DIA</th>\n",
       "      <th>CANT_USO_X_MES</th>\n",
       "      <th>CANT_USO_X_DIA_SEM</th>\n",
       "      <th>CANT_USO_X_SEMANA</th>\n",
       "      <th>ID_TIPO_SOLICITANTE</th>\n",
       "      <th>VIAJA_FERIADO_SN</th>\n",
       "      <th>FEC_DESDE</th>\n",
       "      <th>FEC_HASTA</th>\n",
       "      <th>ID_NIVEL_EDUCATIVO</th>\n",
       "      <th>EXCEP</th>\n",
       "      <th>ID_DISTANCIA</th>\n",
       "      <th>ID_MOVIMIENTO</th>\n",
       "      <th>FEC_MOVIMIENTO</th>\n",
       "      <th>ID_ORIGEN.1</th>\n",
       "      <th>ID_DESTINO.1</th>\n",
       "      <th>ID_PROGRAMA</th>\n",
       "      <th>UID_TARJETA</th>\n",
       "      <th>LATITUD</th>\n",
       "      <th>LONGITUD</th>\n",
       "      <th>NRO_INTERNO</th>\n",
       "      <th>ID_ADMINISTRADORA</th>\n",
       "      <th>VALIDADO_SN</th>\n",
       "      <th>VALORIZAR_SN</th>\n",
       "      <th>FEC_LIQUIDACION</th>\n",
       "      <th>LIQUIDADO_SN</th>\n",
       "      <th>CUIT_TRANSPORTISTA</th>\n",
       "      <th>PRECIO_GOBIERNO</th>\n",
       "      <th>PRECIO_VALORIZADO</th>\n",
       "      <th>ID_RESULTADO</th>\n",
       "      <th>ID_EMPRESA.1</th>\n",
       "      <th>FEC_INGRESO</th>\n",
       "      <th>MONTO_ULTIMO</th>\n",
       "      <th>PROGRAMA</th>\n",
       "      <th>DIA_MOVIMIENTO</th>\n",
       "      <th>ANO_MES_MOVIMIENTO</th>\n",
       "      <th>ANO_MOVIMIENTO</th>\n",
       "      <th>TIPO_INTER</th>\n",
       "      <th>TIPO_INTER_TRAMOS</th>\n",
       "      <th>FILTER</th>\n",
       "    </tr>\n",
       "  </thead>\n",
       "  <tbody>\n",
       "    <tr>\n",
       "      <th>0</th>\n",
       "      <td>4328075</td>\n",
       "      <td>27027567237</td>\n",
       "      <td>1092.0</td>\n",
       "      <td>1343.0</td>\n",
       "      <td>673</td>\n",
       "      <td>00:00</td>\n",
       "      <td>23:59</td>\n",
       "      <td>2</td>\n",
       "      <td>0</td>\n",
       "      <td>0</td>\n",
       "      <td>0</td>\n",
       "      <td>8</td>\n",
       "      <td>S</td>\n",
       "      <td>12/09/2019 09:13:41 a.m.</td>\n",
       "      <td>19/09/2019</td>\n",
       "      <td>NaN</td>\n",
       "      <td>NaN</td>\n",
       "      <td>6.0</td>\n",
       "      <td>154828600</td>\n",
       "      <td>11/11/2022 01:14:08 p.m.</td>\n",
       "      <td>1092</td>\n",
       "      <td>1343</td>\n",
       "      <td>3</td>\n",
       "      <td>4987AD76</td>\n",
       "      <td>30.980131</td>\n",
       "      <td>64.094316</td>\n",
       "      <td>690</td>\n",
       "      <td>1</td>\n",
       "      <td>S</td>\n",
       "      <td>S</td>\n",
       "      <td>NaN</td>\n",
       "      <td>NaN</td>\n",
       "      <td>30678714344</td>\n",
       "      <td>NaN</td>\n",
       "      <td>214,9125</td>\n",
       "      <td>3</td>\n",
       "      <td>673</td>\n",
       "      <td>12/11/2022 12:00:51 a.m.</td>\n",
       "      <td>9891,92</td>\n",
       "      <td>BAM</td>\n",
       "      <td>11/11/2022</td>\n",
       "      <td>11/2022</td>\n",
       "      <td>2022</td>\n",
       "      <td>Interurbano más de 100km</td>\n",
       "      <td>Interurbano menos de 100km</td>\n",
       "      <td>nan</td>\n",
       "    </tr>\n",
       "    <tr>\n",
       "      <th>1</th>\n",
       "      <td>4695462</td>\n",
       "      <td>20084531155</td>\n",
       "      <td>1248.0</td>\n",
       "      <td>1.0</td>\n",
       "      <td>677</td>\n",
       "      <td>00:00</td>\n",
       "      <td>23:59</td>\n",
       "      <td>2</td>\n",
       "      <td>0</td>\n",
       "      <td>0</td>\n",
       "      <td>0</td>\n",
       "      <td>8</td>\n",
       "      <td>S</td>\n",
       "      <td>26/10/2019 12:18:32 p.m.</td>\n",
       "      <td>02/11/2019</td>\n",
       "      <td>NaN</td>\n",
       "      <td>NaN</td>\n",
       "      <td>6.0</td>\n",
       "      <td>154906161</td>\n",
       "      <td>14/11/2022 05:02:28 p.m.</td>\n",
       "      <td>1</td>\n",
       "      <td>201</td>\n",
       "      <td>3</td>\n",
       "      <td>69DABF76</td>\n",
       "      <td>31.425068</td>\n",
       "      <td>64.172750</td>\n",
       "      <td>5100</td>\n",
       "      <td>1</td>\n",
       "      <td>S</td>\n",
       "      <td>S</td>\n",
       "      <td>NaN</td>\n",
       "      <td>NaN</td>\n",
       "      <td>30707788832</td>\n",
       "      <td>NaN</td>\n",
       "      <td>287,6475</td>\n",
       "      <td>3</td>\n",
       "      <td>677</td>\n",
       "      <td>15/11/2022 12:46:00 a.m.</td>\n",
       "      <td>8992,37</td>\n",
       "      <td>BAM</td>\n",
       "      <td>14/11/2022</td>\n",
       "      <td>11/2022</td>\n",
       "      <td>2022</td>\n",
       "      <td>Interurbano más de 100km</td>\n",
       "      <td>Interurbano menos de 100km</td>\n",
       "      <td>nan</td>\n",
       "    </tr>\n",
       "    <tr>\n",
       "      <th>2</th>\n",
       "      <td>4852194</td>\n",
       "      <td>27100483667</td>\n",
       "      <td>1.0</td>\n",
       "      <td>1445.0</td>\n",
       "      <td>677</td>\n",
       "      <td>00:00</td>\n",
       "      <td>23:59</td>\n",
       "      <td>2</td>\n",
       "      <td>0</td>\n",
       "      <td>0</td>\n",
       "      <td>0</td>\n",
       "      <td>8</td>\n",
       "      <td>S</td>\n",
       "      <td>13/11/2019 12:30:10 p.m.</td>\n",
       "      <td>20/11/2019</td>\n",
       "      <td>NaN</td>\n",
       "      <td>NaN</td>\n",
       "      <td>6.0</td>\n",
       "      <td>155270018</td>\n",
       "      <td>21/11/2022 07:22:30 p.m.</td>\n",
       "      <td>1</td>\n",
       "      <td>1445</td>\n",
       "      <td>3</td>\n",
       "      <td>29A4C076</td>\n",
       "      <td>31.350008</td>\n",
       "      <td>64.176090</td>\n",
       "      <td>5239</td>\n",
       "      <td>1</td>\n",
       "      <td>S</td>\n",
       "      <td>S</td>\n",
       "      <td>NaN</td>\n",
       "      <td>NaN</td>\n",
       "      <td>30707788832</td>\n",
       "      <td>NaN</td>\n",
       "      <td>168,8625</td>\n",
       "      <td>3</td>\n",
       "      <td>677</td>\n",
       "      <td>22/11/2022 12:14:06 a.m.</td>\n",
       "      <td>13131,31</td>\n",
       "      <td>BAM</td>\n",
       "      <td>21/11/2022</td>\n",
       "      <td>11/2022</td>\n",
       "      <td>2022</td>\n",
       "      <td>Interurbano más de 100km</td>\n",
       "      <td>Interurbano menos de 100km</td>\n",
       "      <td>nan</td>\n",
       "    </tr>\n",
       "  </tbody>\n",
       "</table>\n",
       "</div>"
      ],
      "text/plain": [
       "   ID_AUTORIZACION         CUIL  ID_ORIGEN  ID_DESTINO  ID_EMPRESA  \\\n",
       "0          4328075  27027567237     1092.0      1343.0         673   \n",
       "1          4695462  20084531155     1248.0         1.0         677   \n",
       "2          4852194  27100483667        1.0      1445.0         677   \n",
       "\n",
       "  INICIO_FRANJA_HORARIA FINAL_FRANJA_HORARIA  CANT_USO_X_DIA  CANT_USO_X_MES  \\\n",
       "0                 00:00                23:59               2               0   \n",
       "1                 00:00                23:59               2               0   \n",
       "2                 00:00                23:59               2               0   \n",
       "\n",
       "   CANT_USO_X_DIA_SEM  CANT_USO_X_SEMANA  ID_TIPO_SOLICITANTE  \\\n",
       "0                   0                  0                    8   \n",
       "1                   0                  0                    8   \n",
       "2                   0                  0                    8   \n",
       "\n",
       "  VIAJA_FERIADO_SN                 FEC_DESDE   FEC_HASTA  ID_NIVEL_EDUCATIVO  \\\n",
       "0                S  12/09/2019 09:13:41 a.m.  19/09/2019                 NaN   \n",
       "1                S  26/10/2019 12:18:32 p.m.  02/11/2019                 NaN   \n",
       "2                S  13/11/2019 12:30:10 p.m.  20/11/2019                 NaN   \n",
       "\n",
       "  EXCEP  ID_DISTANCIA  ID_MOVIMIENTO            FEC_MOVIMIENTO  ID_ORIGEN.1  \\\n",
       "0   NaN           6.0      154828600  11/11/2022 01:14:08 p.m.         1092   \n",
       "1   NaN           6.0      154906161  14/11/2022 05:02:28 p.m.            1   \n",
       "2   NaN           6.0      155270018  21/11/2022 07:22:30 p.m.            1   \n",
       "\n",
       "   ID_DESTINO.1  ID_PROGRAMA UID_TARJETA    LATITUD   LONGITUD  NRO_INTERNO  \\\n",
       "0          1343            3    4987AD76  30.980131  64.094316          690   \n",
       "1           201            3    69DABF76  31.425068  64.172750         5100   \n",
       "2          1445            3    29A4C076  31.350008  64.176090         5239   \n",
       "\n",
       "   ID_ADMINISTRADORA VALIDADO_SN VALORIZAR_SN FEC_LIQUIDACION LIQUIDADO_SN  \\\n",
       "0                  1           S            S             NaN          NaN   \n",
       "1                  1           S            S             NaN          NaN   \n",
       "2                  1           S            S             NaN          NaN   \n",
       "\n",
       "   CUIT_TRANSPORTISTA  PRECIO_GOBIERNO PRECIO_VALORIZADO  ID_RESULTADO  \\\n",
       "0         30678714344              NaN          214,9125             3   \n",
       "1         30707788832              NaN          287,6475             3   \n",
       "2         30707788832              NaN          168,8625             3   \n",
       "\n",
       "   ID_EMPRESA.1               FEC_INGRESO MONTO_ULTIMO PROGRAMA  \\\n",
       "0           673  12/11/2022 12:00:51 a.m.      9891,92      BAM   \n",
       "1           677  15/11/2022 12:46:00 a.m.      8992,37      BAM   \n",
       "2           677  22/11/2022 12:14:06 a.m.     13131,31      BAM   \n",
       "\n",
       "  DIA_MOVIMIENTO ANO_MES_MOVIMIENTO ANO_MOVIMIENTO                TIPO_INTER  \\\n",
       "0     11/11/2022            11/2022           2022  Interurbano más de 100km   \n",
       "1     14/11/2022            11/2022           2022  Interurbano más de 100km   \n",
       "2     21/11/2022            11/2022           2022  Interurbano más de 100km   \n",
       "\n",
       "            TIPO_INTER_TRAMOS FILTER  \n",
       "0  Interurbano menos de 100km    nan  \n",
       "1  Interurbano menos de 100km    nan  \n",
       "2  Interurbano menos de 100km    nan  "
      ]
     },
     "execution_count": 23,
     "metadata": {},
     "output_type": "execute_result"
    }
   ],
   "source": [
    "#los elimino\n",
    "base_inter = base_inter[base_inter['FILTER']!='DROP']\n",
    "base_inter.head(3)"
   ]
  },
  {
   "cell_type": "code",
   "execution_count": 24,
   "metadata": {},
   "outputs": [
    {
     "data": {
      "text/plain": [
       "(52862, 46)"
      ]
     },
     "execution_count": 24,
     "metadata": {},
     "output_type": "execute_result"
    }
   ],
   "source": [
    "base_inter.shape"
   ]
  },
  {
   "cell_type": "markdown",
   "metadata": {},
   "source": [
    "###### RECORDATORIO\n",
    "---\n",
    "Para pasar a episodios eliminados tengo que sumar DROP + pd.value_counts (base_inter['ID_DISTANCIA']) = 2 y 3 "
   ]
  },
  {
   "cell_type": "markdown",
   "metadata": {},
   "source": [
    "### Mapeo con el diccionario\n",
    "---"
   ]
  },
  {
   "cell_type": "markdown",
   "metadata": {},
   "source": [
    "Hago un mapeo con un diccionario para que me traiga el nombre de las empresas, para ver cuales son en las que pasa este problema"
   ]
  },
  {
   "cell_type": "code",
   "execution_count": 25,
   "metadata": {},
   "outputs": [
    {
     "data": {
      "text/plain": [
       "dict"
      ]
     },
     "execution_count": 25,
     "metadata": {},
     "output_type": "execute_result"
    }
   ],
   "source": [
    "Diccionario_Empresas = {1 : 'COATA S.A.',\n",
    "2 : 'COTA LA CALERA  LTDA.',\n",
    "4 : 'COLONIA TIROLESA S.R.L.',\n",
    "5 : 'EMPRESA CORDOBA S.R.L.',\n",
    "6 : 'EL PORVENIR S.R.L.',\n",
    "8 : 'EXPRESO ACHIRAS S.R.L.',\n",
    "10 : 'LA ESTRELLA S.R.L.',\n",
    "12 : 'MALVINAS ARGENTINAS S.R.L.',\n",
    "13 : 'MAR CHIQUITA S.R.L.',\n",
    "14 : 'EL QUEBRACHAL S.R.L.',\n",
    "17 : 'SIERRAS DE CALAMUCHITA S.R.L.',\n",
    "18 : 'EMP TRANSPORTE MORTEROS S.R.L.',\n",
    "21 : 'S.A. TRANSPORTE CIUDAD DE RIO CUARTO[Inter]',\n",
    "25 : 'EMRPESA SARMIENTO S.R.L.[Inter]',\n",
    "26 : 'RIO BER S.R.L.',\n",
    "29 : 'EXPRESO DIFERENCIAL CORDOBA RIO CUARTO S.R.L.',\n",
    "31 : 'PAJARO BLANCO S.R.L.',\n",
    "33 : 'EXPRESO VILLA DEL ROSARIO S.A.',\n",
    "34 : 'CIRCUNVALACION S.A.',\n",
    "35 : 'INTERCORDOBA S.A.',\n",
    "36 : 'LUMASA VIAJES S.R.L.',\n",
    "37 : 'LA SERRANITA S.R.L.',\n",
    "38 : 'CAR-BUS S.R.L.',\n",
    "39 : 'EMPRESA EL TURISTA S.R.L.',\n",
    "40 : 'ALEJANDRO S.R.L.',\n",
    "41 : 'SOCSA S.R.L.',\n",
    "45 : 'EXCURSIONES SIERRAS DE CALAMUCHITA S.R.L.',\n",
    "46 : 'SIERRA BUS S.R.L.',\n",
    "48 : 'EMPRENDIMIENTOS S.R.L. (FONO BUS)',\n",
    "49 : 'CAR-COR S.R.L.',\n",
    "50 : 'DIFERENCIAL TRANSIERRAS S.R.L.',\n",
    "51 : 'PANAHOLMA S.R.L.',\n",
    "52 : 'TRANSPORTE DEAN FUNES S.R.L.',\n",
    "53 : 'EL TATU CARRETERO S.R.L.',\n",
    "54 : 'LA DILIGENCIA VIP S.R.L.',\n",
    "60 : 'CANELLO HNOS S.R.L.',\n",
    "62 : 'EL MILAGRO S.R.L.',\n",
    "501 : 'CONIFERAL SACIF',\n",
    "502 : 'TAMSE',\n",
    "603 : 'CHIACCHIERA HENRI LUIS [JESÚS MARÍA-COLONIA CAROYA]',\n",
    "605 : 'EMPRESA MARTINEZ S.R.L.[Alta Gracia]',\n",
    "606 : 'TRANSPORTE AUTOMOTOR GARAY S.R.L',\n",
    "607 : 'GOOD TRAVEL TOURS S.R.L.[ALTA GRACIA]',\n",
    "610 : 'LUMASA SA[LA FALDA]',\n",
    "611 : 'MEICHTRI EDUARD RICARDO',\n",
    "612 : 'MUN CDAD DE S FRANCISCO',\n",
    "613 : 'RIO BUS S.R.L.[RIO TERCERO]',\n",
    "615 : 'TRANS BUS S.R.L.[VILLA MARIA]',\n",
    "616 : 'TRANSPORTE AUTOMOTOR GARAY S.R.L [ALTA GRACIA]',\n",
    "619 : 'EMRPESA SARMIENTO S.R.L.[COSQUIN]',\n",
    "620 : 'MA - COR S.R.L.[MALAGUEÑO]',\n",
    "622 : 'INTERCORDOBA S.A.[RÍO CEBALLOS]',\n",
    "623 : 'S.A. TRANSPORTE CIUDAD DE RIO CUARTO [RIO CUARTO]',\n",
    "624 : 'EXPRESO DIFERENCIAL CORDOBA RIO CUARTO S.R.L.',\n",
    "625 : 'EL TATU CARRETERO S.R.L.',\n",
    "626 : 'EMRPESA SARMIENTO S.R.L.',\n",
    "627 : 'EXCURSIONES SIERRAS DE CALAMUCHITA S.R.L.',\n",
    "628 : 'INTERCORDOBA S.A.',\n",
    "629 : 'LUMASA VIAJES S.R.L.',\n",
    "630 : 'SIERRA BUS S.R.L.',\n",
    "632 : 'CANELLO HNOS S.R.L.',\n",
    "633 : 'CAR-COR S.R.L.',\n",
    "634 : 'DIFERENCIAL TRANSIERRAS S.R.L.',\n",
    "635 : 'EDER SERVICIO DIFERENCIAL S.R.L.',\n",
    "636 : 'EL MILAGRO S.R.L.',\n",
    "637 : 'EMPRENDIMIENTOS S.R.L. (FONO BUS)[INTER]',\n",
    "638 : 'LA DILIGENCIA VIP S.R.L.',\n",
    "639 : 'MA - COR S.R.L.',\n",
    "640 : 'PANAHOLMA S.R.L.',\n",
    "641 : 'TRANSPORTE DEAN FUNES S.R.L.',\n",
    "642 : 'TRANSPORTE JAMES CRAIK S.R.L.',\n",
    "646 : 'ZETA BUS S.R.L.',\n",
    "652 : 'EMPRENDIMIENTOS S.R.L. (FONO BUS)[TANTI]',\n",
    "653 : 'PAJARO BLANCO S.R.L.[SANTA ROSA DE CALAMUCHITA]',\n",
    "656 : 'EMPRENDIMIENTOS S.R.L. (FONO BUS)[MENDIOLAZA]',\n",
    "657 : 'EMPRENDIMIENTOS S.R.L. (FONO BUS)[SALDAN]',\n",
    "658 : 'EMPRENDIMIENTOS S.R.L. (FONO BUS)[BIALET MASSE]',\n",
    "659 : 'EMPRENDIMIENTOS S.R.L. (FONO BUS)[LA GRANJA]',\n",
    "660 : 'EMPRENDIMIENTOS S.R.L. (FONO BUS)[SANTA MARIA DE PUNILLA]',\n",
    "671 : 'ERSA URBANO S.A.',\n",
    "672 : 'AUTOBUSES SANTA FE S.R.L.',\n",
    "673 : 'EMPRENDIMIENTOS S.R.L. (FONO BUS)[INTER]',\n",
    "674 : 'EXPRESO DIFERENCIAL CORDOBA RIO CUARTO S.R.L.[EMBALSE]',\n",
    "675 : 'SI! BUS EMPRESA SARMIENTO S.R.L. - INTERCORDOBA S.A. UNION TRANSITORIA DE EMPRESAS[VILLA ALLENDE]',\n",
    "676 : 'CANELLO HNOS. S.R.L. [DESPEÑADEROS]',                      \n",
    "677 : 'ERSA URBANO S.A.[Inter]',\n",
    "680 : 'EXPRESO DIFERENCIAL CORDOBA RIO CUARTO S.R.L.[VILLA GENERAL BELGRANO (INTERCOMUNAL)]',\n",
    "681 : 'EMRPESA SARMIENTO S.R.L.[CRUZ DEL EJE]',\n",
    "682 : 'INTERCORDOBA S.A.[MENDIOLAZA]',\n",
    "683 : 'INTERCORDOBA S.A.[SALSIPUEDES]',\n",
    "684 : 'INTERCORDOBA S.A.[UNQUILLO]',\n",
    "685 : 'MUNICIPALIDAD DE BELL VILLE',\n",
    "686 : 'SOCSA S.R.L.[VILLA DOLORES]',\n",
    "687 : 'LATITUD CERO S.A. (SIERRAS SUR)',\n",
    "688 : 'CAR-COR S.R.L.[VILLA CARLOS PAZ]',\n",
    "}\n",
    "\n",
    "#verifico que me haya quedado el diccionario\n",
    "type(Diccionario_Empresas)"
   ]
  },
  {
   "cell_type": "code",
   "execution_count": 26,
   "metadata": {},
   "outputs": [
    {
     "data": {
      "text/html": [
       "<div>\n",
       "<style scoped>\n",
       "    .dataframe tbody tr th:only-of-type {\n",
       "        vertical-align: middle;\n",
       "    }\n",
       "\n",
       "    .dataframe tbody tr th {\n",
       "        vertical-align: top;\n",
       "    }\n",
       "\n",
       "    .dataframe thead th {\n",
       "        text-align: right;\n",
       "    }\n",
       "</style>\n",
       "<table border=\"1\" class=\"dataframe\">\n",
       "  <thead>\n",
       "    <tr style=\"text-align: right;\">\n",
       "      <th></th>\n",
       "      <th>ID_AUTORIZACION</th>\n",
       "      <th>CUIL</th>\n",
       "      <th>ID_ORIGEN</th>\n",
       "      <th>ID_DESTINO</th>\n",
       "      <th>ID_EMPRESA</th>\n",
       "      <th>INICIO_FRANJA_HORARIA</th>\n",
       "      <th>FINAL_FRANJA_HORARIA</th>\n",
       "      <th>CANT_USO_X_DIA</th>\n",
       "      <th>CANT_USO_X_MES</th>\n",
       "      <th>CANT_USO_X_DIA_SEM</th>\n",
       "      <th>CANT_USO_X_SEMANA</th>\n",
       "      <th>ID_TIPO_SOLICITANTE</th>\n",
       "      <th>VIAJA_FERIADO_SN</th>\n",
       "      <th>FEC_DESDE</th>\n",
       "      <th>FEC_HASTA</th>\n",
       "      <th>ID_NIVEL_EDUCATIVO</th>\n",
       "      <th>EXCEP</th>\n",
       "      <th>ID_DISTANCIA</th>\n",
       "      <th>ID_MOVIMIENTO</th>\n",
       "      <th>FEC_MOVIMIENTO</th>\n",
       "      <th>ID_ORIGEN.1</th>\n",
       "      <th>ID_DESTINO.1</th>\n",
       "      <th>ID_PROGRAMA</th>\n",
       "      <th>UID_TARJETA</th>\n",
       "      <th>LATITUD</th>\n",
       "      <th>LONGITUD</th>\n",
       "      <th>NRO_INTERNO</th>\n",
       "      <th>ID_ADMINISTRADORA</th>\n",
       "      <th>VALIDADO_SN</th>\n",
       "      <th>VALORIZAR_SN</th>\n",
       "      <th>FEC_LIQUIDACION</th>\n",
       "      <th>LIQUIDADO_SN</th>\n",
       "      <th>CUIT_TRANSPORTISTA</th>\n",
       "      <th>PRECIO_GOBIERNO</th>\n",
       "      <th>PRECIO_VALORIZADO</th>\n",
       "      <th>ID_RESULTADO</th>\n",
       "      <th>ID_EMPRESA.1</th>\n",
       "      <th>FEC_INGRESO</th>\n",
       "      <th>MONTO_ULTIMO</th>\n",
       "      <th>PROGRAMA</th>\n",
       "      <th>DIA_MOVIMIENTO</th>\n",
       "      <th>ANO_MES_MOVIMIENTO</th>\n",
       "      <th>ANO_MOVIMIENTO</th>\n",
       "      <th>TIPO_INTER</th>\n",
       "      <th>TIPO_INTER_TRAMOS</th>\n",
       "      <th>FILTER</th>\n",
       "      <th>Nombre_Empresas</th>\n",
       "    </tr>\n",
       "  </thead>\n",
       "  <tbody>\n",
       "    <tr>\n",
       "      <th>0</th>\n",
       "      <td>4328075</td>\n",
       "      <td>27027567237</td>\n",
       "      <td>1092.0</td>\n",
       "      <td>1343.0</td>\n",
       "      <td>673</td>\n",
       "      <td>00:00</td>\n",
       "      <td>23:59</td>\n",
       "      <td>2</td>\n",
       "      <td>0</td>\n",
       "      <td>0</td>\n",
       "      <td>0</td>\n",
       "      <td>8</td>\n",
       "      <td>S</td>\n",
       "      <td>12/09/2019 09:13:41 a.m.</td>\n",
       "      <td>19/09/2019</td>\n",
       "      <td>NaN</td>\n",
       "      <td>NaN</td>\n",
       "      <td>6.0</td>\n",
       "      <td>154828600</td>\n",
       "      <td>11/11/2022 01:14:08 p.m.</td>\n",
       "      <td>1092</td>\n",
       "      <td>1343</td>\n",
       "      <td>3</td>\n",
       "      <td>4987AD76</td>\n",
       "      <td>30.980131</td>\n",
       "      <td>64.094316</td>\n",
       "      <td>690</td>\n",
       "      <td>1</td>\n",
       "      <td>S</td>\n",
       "      <td>S</td>\n",
       "      <td>NaN</td>\n",
       "      <td>NaN</td>\n",
       "      <td>30678714344</td>\n",
       "      <td>NaN</td>\n",
       "      <td>214,9125</td>\n",
       "      <td>3</td>\n",
       "      <td>673</td>\n",
       "      <td>12/11/2022 12:00:51 a.m.</td>\n",
       "      <td>9891,92</td>\n",
       "      <td>BAM</td>\n",
       "      <td>11/11/2022</td>\n",
       "      <td>11/2022</td>\n",
       "      <td>2022</td>\n",
       "      <td>Interurbano más de 100km</td>\n",
       "      <td>Interurbano menos de 100km</td>\n",
       "      <td>nan</td>\n",
       "      <td>EMPRENDIMIENTOS S.R.L. (FONO BUS)[INTER]</td>\n",
       "    </tr>\n",
       "    <tr>\n",
       "      <th>1</th>\n",
       "      <td>4695462</td>\n",
       "      <td>20084531155</td>\n",
       "      <td>1248.0</td>\n",
       "      <td>1.0</td>\n",
       "      <td>677</td>\n",
       "      <td>00:00</td>\n",
       "      <td>23:59</td>\n",
       "      <td>2</td>\n",
       "      <td>0</td>\n",
       "      <td>0</td>\n",
       "      <td>0</td>\n",
       "      <td>8</td>\n",
       "      <td>S</td>\n",
       "      <td>26/10/2019 12:18:32 p.m.</td>\n",
       "      <td>02/11/2019</td>\n",
       "      <td>NaN</td>\n",
       "      <td>NaN</td>\n",
       "      <td>6.0</td>\n",
       "      <td>154906161</td>\n",
       "      <td>14/11/2022 05:02:28 p.m.</td>\n",
       "      <td>1</td>\n",
       "      <td>201</td>\n",
       "      <td>3</td>\n",
       "      <td>69DABF76</td>\n",
       "      <td>31.425068</td>\n",
       "      <td>64.172750</td>\n",
       "      <td>5100</td>\n",
       "      <td>1</td>\n",
       "      <td>S</td>\n",
       "      <td>S</td>\n",
       "      <td>NaN</td>\n",
       "      <td>NaN</td>\n",
       "      <td>30707788832</td>\n",
       "      <td>NaN</td>\n",
       "      <td>287,6475</td>\n",
       "      <td>3</td>\n",
       "      <td>677</td>\n",
       "      <td>15/11/2022 12:46:00 a.m.</td>\n",
       "      <td>8992,37</td>\n",
       "      <td>BAM</td>\n",
       "      <td>14/11/2022</td>\n",
       "      <td>11/2022</td>\n",
       "      <td>2022</td>\n",
       "      <td>Interurbano más de 100km</td>\n",
       "      <td>Interurbano menos de 100km</td>\n",
       "      <td>nan</td>\n",
       "      <td>ERSA URBANO S.A.[Inter]</td>\n",
       "    </tr>\n",
       "    <tr>\n",
       "      <th>2</th>\n",
       "      <td>4852194</td>\n",
       "      <td>27100483667</td>\n",
       "      <td>1.0</td>\n",
       "      <td>1445.0</td>\n",
       "      <td>677</td>\n",
       "      <td>00:00</td>\n",
       "      <td>23:59</td>\n",
       "      <td>2</td>\n",
       "      <td>0</td>\n",
       "      <td>0</td>\n",
       "      <td>0</td>\n",
       "      <td>8</td>\n",
       "      <td>S</td>\n",
       "      <td>13/11/2019 12:30:10 p.m.</td>\n",
       "      <td>20/11/2019</td>\n",
       "      <td>NaN</td>\n",
       "      <td>NaN</td>\n",
       "      <td>6.0</td>\n",
       "      <td>155270018</td>\n",
       "      <td>21/11/2022 07:22:30 p.m.</td>\n",
       "      <td>1</td>\n",
       "      <td>1445</td>\n",
       "      <td>3</td>\n",
       "      <td>29A4C076</td>\n",
       "      <td>31.350008</td>\n",
       "      <td>64.176090</td>\n",
       "      <td>5239</td>\n",
       "      <td>1</td>\n",
       "      <td>S</td>\n",
       "      <td>S</td>\n",
       "      <td>NaN</td>\n",
       "      <td>NaN</td>\n",
       "      <td>30707788832</td>\n",
       "      <td>NaN</td>\n",
       "      <td>168,8625</td>\n",
       "      <td>3</td>\n",
       "      <td>677</td>\n",
       "      <td>22/11/2022 12:14:06 a.m.</td>\n",
       "      <td>13131,31</td>\n",
       "      <td>BAM</td>\n",
       "      <td>21/11/2022</td>\n",
       "      <td>11/2022</td>\n",
       "      <td>2022</td>\n",
       "      <td>Interurbano más de 100km</td>\n",
       "      <td>Interurbano menos de 100km</td>\n",
       "      <td>nan</td>\n",
       "      <td>ERSA URBANO S.A.[Inter]</td>\n",
       "    </tr>\n",
       "    <tr>\n",
       "      <th>3</th>\n",
       "      <td>4958275</td>\n",
       "      <td>20079767213</td>\n",
       "      <td>1248.0</td>\n",
       "      <td>1.0</td>\n",
       "      <td>677</td>\n",
       "      <td>00:00</td>\n",
       "      <td>23:59</td>\n",
       "      <td>2</td>\n",
       "      <td>0</td>\n",
       "      <td>0</td>\n",
       "      <td>0</td>\n",
       "      <td>8</td>\n",
       "      <td>S</td>\n",
       "      <td>27/11/2019 11:08:20 a.m.</td>\n",
       "      <td>04/12/2019</td>\n",
       "      <td>NaN</td>\n",
       "      <td>NaN</td>\n",
       "      <td>6.0</td>\n",
       "      <td>154518780</td>\n",
       "      <td>09/11/2022 06:52:46 p.m.</td>\n",
       "      <td>1</td>\n",
       "      <td>1248</td>\n",
       "      <td>3</td>\n",
       "      <td>99CBEB33</td>\n",
       "      <td>31.424975</td>\n",
       "      <td>64.172483</td>\n",
       "      <td>5117</td>\n",
       "      <td>1</td>\n",
       "      <td>S</td>\n",
       "      <td>S</td>\n",
       "      <td>NaN</td>\n",
       "      <td>NaN</td>\n",
       "      <td>30707788832</td>\n",
       "      <td>NaN</td>\n",
       "      <td>287,6475</td>\n",
       "      <td>3</td>\n",
       "      <td>677</td>\n",
       "      <td>10/11/2022 02:10:54 p.m.</td>\n",
       "      <td>8757,48</td>\n",
       "      <td>BAM</td>\n",
       "      <td>09/11/2022</td>\n",
       "      <td>11/2022</td>\n",
       "      <td>2022</td>\n",
       "      <td>Interurbano más de 100km</td>\n",
       "      <td>Interurbano menos de 100km</td>\n",
       "      <td>nan</td>\n",
       "      <td>ERSA URBANO S.A.[Inter]</td>\n",
       "    </tr>\n",
       "    <tr>\n",
       "      <th>4</th>\n",
       "      <td>5208916</td>\n",
       "      <td>27101141492</td>\n",
       "      <td>6103.0</td>\n",
       "      <td>1498.0</td>\n",
       "      <td>677</td>\n",
       "      <td>00:00</td>\n",
       "      <td>23:59</td>\n",
       "      <td>2</td>\n",
       "      <td>0</td>\n",
       "      <td>0</td>\n",
       "      <td>0</td>\n",
       "      <td>8</td>\n",
       "      <td>S</td>\n",
       "      <td>27/12/2019 01:35:00 p.m.</td>\n",
       "      <td>03/01/2020</td>\n",
       "      <td>NaN</td>\n",
       "      <td>NaN</td>\n",
       "      <td>6.0</td>\n",
       "      <td>155623546</td>\n",
       "      <td>26/11/2022 03:26:31 p.m.</td>\n",
       "      <td>1498</td>\n",
       "      <td>1092</td>\n",
       "      <td>3</td>\n",
       "      <td>79DB7C1D</td>\n",
       "      <td>31.274548</td>\n",
       "      <td>64.169763</td>\n",
       "      <td>5223</td>\n",
       "      <td>1</td>\n",
       "      <td>S</td>\n",
       "      <td>N</td>\n",
       "      <td>NaN</td>\n",
       "      <td>NaN</td>\n",
       "      <td>30707788832</td>\n",
       "      <td>NaN</td>\n",
       "      <td>NaN</td>\n",
       "      <td>3</td>\n",
       "      <td>677</td>\n",
       "      <td>27/11/2022 12:12:22 a.m.</td>\n",
       "      <td>10100,00</td>\n",
       "      <td>BAM</td>\n",
       "      <td>26/11/2022</td>\n",
       "      <td>11/2022</td>\n",
       "      <td>2022</td>\n",
       "      <td>Interurbano más de 100km</td>\n",
       "      <td>Interurbano menos de 100km</td>\n",
       "      <td>nan</td>\n",
       "      <td>ERSA URBANO S.A.[Inter]</td>\n",
       "    </tr>\n",
       "  </tbody>\n",
       "</table>\n",
       "</div>"
      ],
      "text/plain": [
       "   ID_AUTORIZACION         CUIL  ID_ORIGEN  ID_DESTINO  ID_EMPRESA  \\\n",
       "0          4328075  27027567237     1092.0      1343.0         673   \n",
       "1          4695462  20084531155     1248.0         1.0         677   \n",
       "2          4852194  27100483667        1.0      1445.0         677   \n",
       "3          4958275  20079767213     1248.0         1.0         677   \n",
       "4          5208916  27101141492     6103.0      1498.0         677   \n",
       "\n",
       "  INICIO_FRANJA_HORARIA FINAL_FRANJA_HORARIA  CANT_USO_X_DIA  CANT_USO_X_MES  \\\n",
       "0                 00:00                23:59               2               0   \n",
       "1                 00:00                23:59               2               0   \n",
       "2                 00:00                23:59               2               0   \n",
       "3                 00:00                23:59               2               0   \n",
       "4                 00:00                23:59               2               0   \n",
       "\n",
       "   CANT_USO_X_DIA_SEM  CANT_USO_X_SEMANA  ID_TIPO_SOLICITANTE  \\\n",
       "0                   0                  0                    8   \n",
       "1                   0                  0                    8   \n",
       "2                   0                  0                    8   \n",
       "3                   0                  0                    8   \n",
       "4                   0                  0                    8   \n",
       "\n",
       "  VIAJA_FERIADO_SN                 FEC_DESDE   FEC_HASTA  ID_NIVEL_EDUCATIVO  \\\n",
       "0                S  12/09/2019 09:13:41 a.m.  19/09/2019                 NaN   \n",
       "1                S  26/10/2019 12:18:32 p.m.  02/11/2019                 NaN   \n",
       "2                S  13/11/2019 12:30:10 p.m.  20/11/2019                 NaN   \n",
       "3                S  27/11/2019 11:08:20 a.m.  04/12/2019                 NaN   \n",
       "4                S  27/12/2019 01:35:00 p.m.  03/01/2020                 NaN   \n",
       "\n",
       "  EXCEP  ID_DISTANCIA  ID_MOVIMIENTO            FEC_MOVIMIENTO  ID_ORIGEN.1  \\\n",
       "0   NaN           6.0      154828600  11/11/2022 01:14:08 p.m.         1092   \n",
       "1   NaN           6.0      154906161  14/11/2022 05:02:28 p.m.            1   \n",
       "2   NaN           6.0      155270018  21/11/2022 07:22:30 p.m.            1   \n",
       "3   NaN           6.0      154518780  09/11/2022 06:52:46 p.m.            1   \n",
       "4   NaN           6.0      155623546  26/11/2022 03:26:31 p.m.         1498   \n",
       "\n",
       "   ID_DESTINO.1  ID_PROGRAMA UID_TARJETA    LATITUD   LONGITUD  NRO_INTERNO  \\\n",
       "0          1343            3    4987AD76  30.980131  64.094316          690   \n",
       "1           201            3    69DABF76  31.425068  64.172750         5100   \n",
       "2          1445            3    29A4C076  31.350008  64.176090         5239   \n",
       "3          1248            3    99CBEB33  31.424975  64.172483         5117   \n",
       "4          1092            3    79DB7C1D  31.274548  64.169763         5223   \n",
       "\n",
       "   ID_ADMINISTRADORA VALIDADO_SN VALORIZAR_SN FEC_LIQUIDACION LIQUIDADO_SN  \\\n",
       "0                  1           S            S             NaN          NaN   \n",
       "1                  1           S            S             NaN          NaN   \n",
       "2                  1           S            S             NaN          NaN   \n",
       "3                  1           S            S             NaN          NaN   \n",
       "4                  1           S            N             NaN          NaN   \n",
       "\n",
       "   CUIT_TRANSPORTISTA  PRECIO_GOBIERNO PRECIO_VALORIZADO  ID_RESULTADO  \\\n",
       "0         30678714344              NaN          214,9125             3   \n",
       "1         30707788832              NaN          287,6475             3   \n",
       "2         30707788832              NaN          168,8625             3   \n",
       "3         30707788832              NaN          287,6475             3   \n",
       "4         30707788832              NaN               NaN             3   \n",
       "\n",
       "   ID_EMPRESA.1               FEC_INGRESO MONTO_ULTIMO PROGRAMA  \\\n",
       "0           673  12/11/2022 12:00:51 a.m.      9891,92      BAM   \n",
       "1           677  15/11/2022 12:46:00 a.m.      8992,37      BAM   \n",
       "2           677  22/11/2022 12:14:06 a.m.     13131,31      BAM   \n",
       "3           677  10/11/2022 02:10:54 p.m.      8757,48      BAM   \n",
       "4           677  27/11/2022 12:12:22 a.m.     10100,00      BAM   \n",
       "\n",
       "  DIA_MOVIMIENTO ANO_MES_MOVIMIENTO ANO_MOVIMIENTO                TIPO_INTER  \\\n",
       "0     11/11/2022            11/2022           2022  Interurbano más de 100km   \n",
       "1     14/11/2022            11/2022           2022  Interurbano más de 100km   \n",
       "2     21/11/2022            11/2022           2022  Interurbano más de 100km   \n",
       "3     09/11/2022            11/2022           2022  Interurbano más de 100km   \n",
       "4     26/11/2022            11/2022           2022  Interurbano más de 100km   \n",
       "\n",
       "            TIPO_INTER_TRAMOS FILTER                           Nombre_Empresas  \n",
       "0  Interurbano menos de 100km    nan  EMPRENDIMIENTOS S.R.L. (FONO BUS)[INTER]  \n",
       "1  Interurbano menos de 100km    nan                   ERSA URBANO S.A.[Inter]  \n",
       "2  Interurbano menos de 100km    nan                   ERSA URBANO S.A.[Inter]  \n",
       "3  Interurbano menos de 100km    nan                   ERSA URBANO S.A.[Inter]  \n",
       "4  Interurbano menos de 100km    nan                   ERSA URBANO S.A.[Inter]  "
      ]
     },
     "execution_count": 26,
     "metadata": {},
     "output_type": "execute_result"
    }
   ],
   "source": [
    "#mapeo el diccionario\n",
    "base_inter['Nombre_Empresas'] = base_inter['ID_EMPRESA'].map(Diccionario_Empresas)\n",
    "base_inter.head(5)"
   ]
  },
  {
   "cell_type": "markdown",
   "metadata": {},
   "source": [
    "Id_RESULTADO 3 = MOVIMIENTO RECHAZADO\n",
    "\n",
    "Verifico que sea que lo rechace. Es decir, la persona tiene autorizacion para UM y se quiso tomar un interurbano "
   ]
  },
  {
   "cell_type": "markdown",
   "metadata": {
    "tags": []
   },
   "source": [
    "## 1° Etapa: Análisis de Comportamiento Usuarios Urbano Interior"
   ]
  },
  {
   "cell_type": "markdown",
   "metadata": {},
   "source": [
    "#### Cantidad de Movimientos Totales por Año-Mes y Programa"
   ]
  },
  {
   "cell_type": "markdown",
   "metadata": {},
   "source": [
    "Para obtener la cantidad de movimientos totales por mes y programa, se agrupa a la tabla por la columna \"ANO_MES_MOVIMIENTO\" y \"PROGRAMA\" y se cuenta la cantidad de \"ID_MOVIMIENTO\". En este caso no es necesario indicar que cuente movimientos únicos, ya que por su naturaleza la columna tiene todos códigos únicos que que representan cada movimiento realizado por los usuarios."
   ]
  },
  {
   "cell_type": "code",
   "execution_count": 27,
   "metadata": {},
   "outputs": [
    {
     "data": {
      "text/html": [
       "<div>\n",
       "<style scoped>\n",
       "    .dataframe tbody tr th:only-of-type {\n",
       "        vertical-align: middle;\n",
       "    }\n",
       "\n",
       "    .dataframe tbody tr th {\n",
       "        vertical-align: top;\n",
       "    }\n",
       "\n",
       "    .dataframe thead th {\n",
       "        text-align: right;\n",
       "    }\n",
       "</style>\n",
       "<table border=\"1\" class=\"dataframe\">\n",
       "  <thead>\n",
       "    <tr style=\"text-align: right;\">\n",
       "      <th></th>\n",
       "      <th>PROGRAMA</th>\n",
       "      <th>TIPO_INTER</th>\n",
       "      <th>ID_MOVIMIENTO</th>\n",
       "      <th>TIPO_SERVICIO</th>\n",
       "    </tr>\n",
       "  </thead>\n",
       "  <tbody>\n",
       "    <tr>\n",
       "      <th>0</th>\n",
       "      <td>BAM</td>\n",
       "      <td>Interurbano más de 100km</td>\n",
       "      <td>33332</td>\n",
       "      <td>Interurbano</td>\n",
       "    </tr>\n",
       "    <tr>\n",
       "      <th>1</th>\n",
       "      <td>BOS</td>\n",
       "      <td>Interurbano más de 100km</td>\n",
       "      <td>19530</td>\n",
       "      <td>Interurbano</td>\n",
       "    </tr>\n",
       "  </tbody>\n",
       "</table>\n",
       "</div>"
      ],
      "text/plain": [
       "  PROGRAMA                TIPO_INTER  ID_MOVIMIENTO TIPO_SERVICIO\n",
       "0      BAM  Interurbano más de 100km          33332   Interurbano\n",
       "1      BOS  Interurbano más de 100km          19530   Interurbano"
      ]
     },
     "execution_count": 27,
     "metadata": {},
     "output_type": "execute_result"
    }
   ],
   "source": [
    "mov_tot = base_inter.groupby(['PROGRAMA', 'TIPO_INTER']).agg({'ID_MOVIMIENTO':'count'}).reset_index()\n",
    "mov_tot.rename({'ID_MOVIMIENTO':'CANT_MOVIMIENTOS'},axis=1)\n",
    "mov_tot['TIPO_SERVICIO'] = 'Interurbano'\n",
    "mov_tot"
   ]
  },
  {
   "cell_type": "markdown",
   "metadata": {},
   "source": [
    "Con el código que sigue, generamos una nueva hoja en el archivo excel creado al comienzo donde se va a guardar la tabla \"mov_tot\". En el parámetro sheet_name se puede elegir el nombre que se le colocará a la hoja del Excel."
   ]
  },
  {
   "cell_type": "code",
   "execution_count": 28,
   "metadata": {},
   "outputs": [],
   "source": [
    "mov_tot.to_excel(writer, sheet_name= 'MOV_TOT_MES')"
   ]
  },
  {
   "cell_type": "markdown",
   "metadata": {},
   "source": [
    "#### Cantidad de Movimientos Totales por Año-Mes por Cat. y Programa"
   ]
  },
  {
   "cell_type": "markdown",
   "metadata": {},
   "source": [
    "Acá queremos obtener la cantidad de movimientos totales por mes teniendo en cuenta el Programa, el Tipo de Solicitante y el Nivel Educativo al que pertenece (si corresponde). Agrupamos entonces por las variables \"ANO_MES_MOVIMIENTO\", \"PROGRAMA\",\"ID_TIPO_SOLICITANTE\" y \"ID_NIVEL_EDUCATIVO\" y contamos la cantidad de movimientos. Después de obtener el resultado, necesitamos unir esta tabla con la tabla que contiene las referencia de Tipo Solicitante y Nivel Educativo. Para eso, se utiliza la función merge. Como solo el programa BEG cuenta con nivel educativo, necesitamos rellenar esa columna para el resto de los programas ya que la función groupby no muestra las filas con nulls."
   ]
  },
  {
   "cell_type": "code",
   "execution_count": 29,
   "metadata": {},
   "outputs": [
    {
     "data": {
      "text/html": [
       "<div>\n",
       "<style scoped>\n",
       "    .dataframe tbody tr th:only-of-type {\n",
       "        vertical-align: middle;\n",
       "    }\n",
       "\n",
       "    .dataframe tbody tr th {\n",
       "        vertical-align: top;\n",
       "    }\n",
       "\n",
       "    .dataframe thead th {\n",
       "        text-align: right;\n",
       "    }\n",
       "</style>\n",
       "<table border=\"1\" class=\"dataframe\">\n",
       "  <thead>\n",
       "    <tr style=\"text-align: right;\">\n",
       "      <th></th>\n",
       "      <th>ID_AUTORIZACION</th>\n",
       "      <th>CUIL</th>\n",
       "      <th>ID_ORIGEN</th>\n",
       "      <th>ID_DESTINO</th>\n",
       "      <th>ID_EMPRESA</th>\n",
       "      <th>INICIO_FRANJA_HORARIA</th>\n",
       "      <th>FINAL_FRANJA_HORARIA</th>\n",
       "      <th>CANT_USO_X_DIA</th>\n",
       "      <th>CANT_USO_X_MES</th>\n",
       "      <th>CANT_USO_X_DIA_SEM</th>\n",
       "      <th>CANT_USO_X_SEMANA</th>\n",
       "      <th>ID_TIPO_SOLICITANTE</th>\n",
       "      <th>VIAJA_FERIADO_SN</th>\n",
       "      <th>FEC_DESDE</th>\n",
       "      <th>FEC_HASTA</th>\n",
       "      <th>ID_NIVEL_EDUCATIVO</th>\n",
       "      <th>EXCEP</th>\n",
       "      <th>ID_DISTANCIA</th>\n",
       "      <th>ID_MOVIMIENTO</th>\n",
       "      <th>FEC_MOVIMIENTO</th>\n",
       "      <th>ID_ORIGEN.1</th>\n",
       "      <th>ID_DESTINO.1</th>\n",
       "      <th>ID_PROGRAMA</th>\n",
       "      <th>UID_TARJETA</th>\n",
       "      <th>LATITUD</th>\n",
       "      <th>LONGITUD</th>\n",
       "      <th>NRO_INTERNO</th>\n",
       "      <th>ID_ADMINISTRADORA</th>\n",
       "      <th>VALIDADO_SN</th>\n",
       "      <th>VALORIZAR_SN</th>\n",
       "      <th>FEC_LIQUIDACION</th>\n",
       "      <th>LIQUIDADO_SN</th>\n",
       "      <th>CUIT_TRANSPORTISTA</th>\n",
       "      <th>PRECIO_GOBIERNO</th>\n",
       "      <th>PRECIO_VALORIZADO</th>\n",
       "      <th>ID_RESULTADO</th>\n",
       "      <th>ID_EMPRESA.1</th>\n",
       "      <th>FEC_INGRESO</th>\n",
       "      <th>MONTO_ULTIMO</th>\n",
       "      <th>PROGRAMA</th>\n",
       "      <th>DIA_MOVIMIENTO</th>\n",
       "      <th>ANO_MES_MOVIMIENTO</th>\n",
       "      <th>ANO_MOVIMIENTO</th>\n",
       "      <th>TIPO_INTER</th>\n",
       "      <th>TIPO_INTER_TRAMOS</th>\n",
       "      <th>FILTER</th>\n",
       "      <th>Nombre_Empresas</th>\n",
       "    </tr>\n",
       "  </thead>\n",
       "  <tbody>\n",
       "    <tr>\n",
       "      <th>0</th>\n",
       "      <td>4328075</td>\n",
       "      <td>27027567237</td>\n",
       "      <td>1092.0</td>\n",
       "      <td>1343.0</td>\n",
       "      <td>673</td>\n",
       "      <td>00:00</td>\n",
       "      <td>23:59</td>\n",
       "      <td>2</td>\n",
       "      <td>0</td>\n",
       "      <td>0</td>\n",
       "      <td>0</td>\n",
       "      <td>8</td>\n",
       "      <td>S</td>\n",
       "      <td>12/09/2019 09:13:41 a.m.</td>\n",
       "      <td>19/09/2019</td>\n",
       "      <td>0.0</td>\n",
       "      <td>NaN</td>\n",
       "      <td>6.0</td>\n",
       "      <td>154828600</td>\n",
       "      <td>11/11/2022 01:14:08 p.m.</td>\n",
       "      <td>1092</td>\n",
       "      <td>1343</td>\n",
       "      <td>3</td>\n",
       "      <td>4987AD76</td>\n",
       "      <td>30.980131</td>\n",
       "      <td>64.094316</td>\n",
       "      <td>690</td>\n",
       "      <td>1</td>\n",
       "      <td>S</td>\n",
       "      <td>S</td>\n",
       "      <td>NaN</td>\n",
       "      <td>NaN</td>\n",
       "      <td>30678714344</td>\n",
       "      <td>NaN</td>\n",
       "      <td>214,9125</td>\n",
       "      <td>3</td>\n",
       "      <td>673</td>\n",
       "      <td>12/11/2022 12:00:51 a.m.</td>\n",
       "      <td>9891,92</td>\n",
       "      <td>BAM</td>\n",
       "      <td>11/11/2022</td>\n",
       "      <td>11/2022</td>\n",
       "      <td>2022</td>\n",
       "      <td>Interurbano más de 100km</td>\n",
       "      <td>Interurbano menos de 100km</td>\n",
       "      <td>nan</td>\n",
       "      <td>EMPRENDIMIENTOS S.R.L. (FONO BUS)[INTER]</td>\n",
       "    </tr>\n",
       "    <tr>\n",
       "      <th>1</th>\n",
       "      <td>4695462</td>\n",
       "      <td>20084531155</td>\n",
       "      <td>1248.0</td>\n",
       "      <td>1.0</td>\n",
       "      <td>677</td>\n",
       "      <td>00:00</td>\n",
       "      <td>23:59</td>\n",
       "      <td>2</td>\n",
       "      <td>0</td>\n",
       "      <td>0</td>\n",
       "      <td>0</td>\n",
       "      <td>8</td>\n",
       "      <td>S</td>\n",
       "      <td>26/10/2019 12:18:32 p.m.</td>\n",
       "      <td>02/11/2019</td>\n",
       "      <td>0.0</td>\n",
       "      <td>NaN</td>\n",
       "      <td>6.0</td>\n",
       "      <td>154906161</td>\n",
       "      <td>14/11/2022 05:02:28 p.m.</td>\n",
       "      <td>1</td>\n",
       "      <td>201</td>\n",
       "      <td>3</td>\n",
       "      <td>69DABF76</td>\n",
       "      <td>31.425068</td>\n",
       "      <td>64.172750</td>\n",
       "      <td>5100</td>\n",
       "      <td>1</td>\n",
       "      <td>S</td>\n",
       "      <td>S</td>\n",
       "      <td>NaN</td>\n",
       "      <td>NaN</td>\n",
       "      <td>30707788832</td>\n",
       "      <td>NaN</td>\n",
       "      <td>287,6475</td>\n",
       "      <td>3</td>\n",
       "      <td>677</td>\n",
       "      <td>15/11/2022 12:46:00 a.m.</td>\n",
       "      <td>8992,37</td>\n",
       "      <td>BAM</td>\n",
       "      <td>14/11/2022</td>\n",
       "      <td>11/2022</td>\n",
       "      <td>2022</td>\n",
       "      <td>Interurbano más de 100km</td>\n",
       "      <td>Interurbano menos de 100km</td>\n",
       "      <td>nan</td>\n",
       "      <td>ERSA URBANO S.A.[Inter]</td>\n",
       "    </tr>\n",
       "    <tr>\n",
       "      <th>2</th>\n",
       "      <td>4852194</td>\n",
       "      <td>27100483667</td>\n",
       "      <td>1.0</td>\n",
       "      <td>1445.0</td>\n",
       "      <td>677</td>\n",
       "      <td>00:00</td>\n",
       "      <td>23:59</td>\n",
       "      <td>2</td>\n",
       "      <td>0</td>\n",
       "      <td>0</td>\n",
       "      <td>0</td>\n",
       "      <td>8</td>\n",
       "      <td>S</td>\n",
       "      <td>13/11/2019 12:30:10 p.m.</td>\n",
       "      <td>20/11/2019</td>\n",
       "      <td>0.0</td>\n",
       "      <td>NaN</td>\n",
       "      <td>6.0</td>\n",
       "      <td>155270018</td>\n",
       "      <td>21/11/2022 07:22:30 p.m.</td>\n",
       "      <td>1</td>\n",
       "      <td>1445</td>\n",
       "      <td>3</td>\n",
       "      <td>29A4C076</td>\n",
       "      <td>31.350008</td>\n",
       "      <td>64.176090</td>\n",
       "      <td>5239</td>\n",
       "      <td>1</td>\n",
       "      <td>S</td>\n",
       "      <td>S</td>\n",
       "      <td>NaN</td>\n",
       "      <td>NaN</td>\n",
       "      <td>30707788832</td>\n",
       "      <td>NaN</td>\n",
       "      <td>168,8625</td>\n",
       "      <td>3</td>\n",
       "      <td>677</td>\n",
       "      <td>22/11/2022 12:14:06 a.m.</td>\n",
       "      <td>13131,31</td>\n",
       "      <td>BAM</td>\n",
       "      <td>21/11/2022</td>\n",
       "      <td>11/2022</td>\n",
       "      <td>2022</td>\n",
       "      <td>Interurbano más de 100km</td>\n",
       "      <td>Interurbano menos de 100km</td>\n",
       "      <td>nan</td>\n",
       "      <td>ERSA URBANO S.A.[Inter]</td>\n",
       "    </tr>\n",
       "  </tbody>\n",
       "</table>\n",
       "</div>"
      ],
      "text/plain": [
       "   ID_AUTORIZACION         CUIL  ID_ORIGEN  ID_DESTINO  ID_EMPRESA  \\\n",
       "0          4328075  27027567237     1092.0      1343.0         673   \n",
       "1          4695462  20084531155     1248.0         1.0         677   \n",
       "2          4852194  27100483667        1.0      1445.0         677   \n",
       "\n",
       "  INICIO_FRANJA_HORARIA FINAL_FRANJA_HORARIA  CANT_USO_X_DIA  CANT_USO_X_MES  \\\n",
       "0                 00:00                23:59               2               0   \n",
       "1                 00:00                23:59               2               0   \n",
       "2                 00:00                23:59               2               0   \n",
       "\n",
       "   CANT_USO_X_DIA_SEM  CANT_USO_X_SEMANA  ID_TIPO_SOLICITANTE  \\\n",
       "0                   0                  0                    8   \n",
       "1                   0                  0                    8   \n",
       "2                   0                  0                    8   \n",
       "\n",
       "  VIAJA_FERIADO_SN                 FEC_DESDE   FEC_HASTA  ID_NIVEL_EDUCATIVO  \\\n",
       "0                S  12/09/2019 09:13:41 a.m.  19/09/2019                 0.0   \n",
       "1                S  26/10/2019 12:18:32 p.m.  02/11/2019                 0.0   \n",
       "2                S  13/11/2019 12:30:10 p.m.  20/11/2019                 0.0   \n",
       "\n",
       "  EXCEP  ID_DISTANCIA  ID_MOVIMIENTO            FEC_MOVIMIENTO  ID_ORIGEN.1  \\\n",
       "0   NaN           6.0      154828600  11/11/2022 01:14:08 p.m.         1092   \n",
       "1   NaN           6.0      154906161  14/11/2022 05:02:28 p.m.            1   \n",
       "2   NaN           6.0      155270018  21/11/2022 07:22:30 p.m.            1   \n",
       "\n",
       "   ID_DESTINO.1  ID_PROGRAMA UID_TARJETA    LATITUD   LONGITUD  NRO_INTERNO  \\\n",
       "0          1343            3    4987AD76  30.980131  64.094316          690   \n",
       "1           201            3    69DABF76  31.425068  64.172750         5100   \n",
       "2          1445            3    29A4C076  31.350008  64.176090         5239   \n",
       "\n",
       "   ID_ADMINISTRADORA VALIDADO_SN VALORIZAR_SN FEC_LIQUIDACION LIQUIDADO_SN  \\\n",
       "0                  1           S            S             NaN          NaN   \n",
       "1                  1           S            S             NaN          NaN   \n",
       "2                  1           S            S             NaN          NaN   \n",
       "\n",
       "   CUIT_TRANSPORTISTA  PRECIO_GOBIERNO PRECIO_VALORIZADO  ID_RESULTADO  \\\n",
       "0         30678714344              NaN          214,9125             3   \n",
       "1         30707788832              NaN          287,6475             3   \n",
       "2         30707788832              NaN          168,8625             3   \n",
       "\n",
       "   ID_EMPRESA.1               FEC_INGRESO MONTO_ULTIMO PROGRAMA  \\\n",
       "0           673  12/11/2022 12:00:51 a.m.      9891,92      BAM   \n",
       "1           677  15/11/2022 12:46:00 a.m.      8992,37      BAM   \n",
       "2           677  22/11/2022 12:14:06 a.m.     13131,31      BAM   \n",
       "\n",
       "  DIA_MOVIMIENTO ANO_MES_MOVIMIENTO ANO_MOVIMIENTO                TIPO_INTER  \\\n",
       "0     11/11/2022            11/2022           2022  Interurbano más de 100km   \n",
       "1     14/11/2022            11/2022           2022  Interurbano más de 100km   \n",
       "2     21/11/2022            11/2022           2022  Interurbano más de 100km   \n",
       "\n",
       "            TIPO_INTER_TRAMOS FILTER                           Nombre_Empresas  \n",
       "0  Interurbano menos de 100km    nan  EMPRENDIMIENTOS S.R.L. (FONO BUS)[INTER]  \n",
       "1  Interurbano menos de 100km    nan                   ERSA URBANO S.A.[Inter]  \n",
       "2  Interurbano menos de 100km    nan                   ERSA URBANO S.A.[Inter]  "
      ]
     },
     "execution_count": 29,
     "metadata": {},
     "output_type": "execute_result"
    }
   ],
   "source": [
    "mov_cat = base_inter\n",
    "mov_cat['ID_NIVEL_EDUCATIVO'] = mov_cat['ID_NIVEL_EDUCATIVO'].fillna(0)\n",
    "mov_cat.head(3)"
   ]
  },
  {
   "cell_type": "code",
   "execution_count": 30,
   "metadata": {},
   "outputs": [],
   "source": [
    "mov_cat = mov_cat.groupby(['PROGRAMA','TIPO_INTER','ID_TIPO_SOLICITANTE', 'ID_NIVEL_EDUCATIVO']).agg({'ID_MOVIMIENTO':'count'}).reset_index()\n",
    "\n",
    "mov_cat = mov_cat.merge(tipo_solicitante, on='ID_TIPO_SOLICITANTE', how='left')\n",
    "mov_cat = mov_cat.merge(nivel_educativo, on='ID_NIVEL_EDUCATIVO', how='left')\n",
    "\n",
    "mov_cat = mov_cat.rename({'ID_MOVIMIENTO':'CANT_MOVIMIENTOS_MES'})\n",
    "\n",
    "mov_cat = mov_cat.drop(columns = ['ID_TIPO_SOLICITANTE', 'ID_NIVEL_EDUCATIVO'])#.set_index(['ANO_MES_MOVIMIENTO','PROGRAMA','TIPO_SOLICITANTE','NIVEL_EDUCATIVO'])\n",
    "\n",
    "#pd.set_option('display.max_rows', None)\n",
    "mov_cat.rename({'ID_MOVIMIENTO':'CANT_MOVIMIENTOS'},axis=1)\n",
    "mov_cat['TIPO_SERVICIO'] = 'Interurbano'"
   ]
  },
  {
   "cell_type": "code",
   "execution_count": 31,
   "metadata": {},
   "outputs": [],
   "source": [
    "mov_cat.to_excel(writer, sheet_name= 'MOV_CAT_MES')"
   ]
  },
  {
   "cell_type": "markdown",
   "metadata": {},
   "source": [
    "#### Cantidad de Movimientos por Empresa por Mes y Programa"
   ]
  },
  {
   "cell_type": "markdown",
   "metadata": {},
   "source": [
    "En este caso, obtenemos la cantidad de movimientos totales por mes teniendo en cuenta la empresa que indica la autorización. Al igual que en el resultado anterior, después de agrupar y obtener el resultado, realizamos un merge con la tabla de referencias para poder obtener el nombre de cada empresa."
   ]
  },
  {
   "cell_type": "code",
   "execution_count": 32,
   "metadata": {},
   "outputs": [],
   "source": [
    "mov_emp = base_inter.groupby(['PROGRAMA','TIPO_INTER', 'ID_EMPRESA.1'])['ID_MOVIMIENTO'].count().reset_index()\n",
    "mov_emp = mov_emp.merge(empresas, on='ID_EMPRESA.1', how='left')\n",
    "mov_emp = mov_emp.rename({'ID_MOVIMIENTO':'CANT_MOVIMIENTOS'}, axis=1)\n",
    "mov_emp = mov_emp.drop(columns=['ID_TIPO_EMPRESA', 'GRUPO_COMERCIAL', 'TIPO_EMPRESA'])\n",
    "mov_emp['TIPO_SERVICIO'] = 'Interurbano'\n"
   ]
  },
  {
   "cell_type": "code",
   "execution_count": 33,
   "metadata": {},
   "outputs": [
    {
     "data": {
      "text/html": [
       "<div>\n",
       "<style scoped>\n",
       "    .dataframe tbody tr th:only-of-type {\n",
       "        vertical-align: middle;\n",
       "    }\n",
       "\n",
       "    .dataframe tbody tr th {\n",
       "        vertical-align: top;\n",
       "    }\n",
       "\n",
       "    .dataframe thead th {\n",
       "        text-align: right;\n",
       "    }\n",
       "</style>\n",
       "<table border=\"1\" class=\"dataframe\">\n",
       "  <thead>\n",
       "    <tr style=\"text-align: right;\">\n",
       "      <th></th>\n",
       "      <th>PROGRAMA</th>\n",
       "      <th>TIPO_INTER</th>\n",
       "      <th>ID_EMPRESA.1</th>\n",
       "      <th>CANT_MOVIMIENTOS</th>\n",
       "      <th>ID_EMPRESA</th>\n",
       "      <th>RAZON_SOC</th>\n",
       "      <th>CUIL</th>\n",
       "      <th>TIPO_SERVICIO</th>\n",
       "    </tr>\n",
       "  </thead>\n",
       "  <tbody>\n",
       "    <tr>\n",
       "      <th>0</th>\n",
       "      <td>BAM</td>\n",
       "      <td>Interurbano más de 100km</td>\n",
       "      <td>1</td>\n",
       "      <td>1715</td>\n",
       "      <td>1</td>\n",
       "      <td>COATA S.A.</td>\n",
       "      <td>30-54624472-1</td>\n",
       "      <td>Interurbano</td>\n",
       "    </tr>\n",
       "    <tr>\n",
       "      <th>1</th>\n",
       "      <td>BAM</td>\n",
       "      <td>Interurbano más de 100km</td>\n",
       "      <td>2</td>\n",
       "      <td>2636</td>\n",
       "      <td>2</td>\n",
       "      <td>COTA LA CALERA  LTDA.</td>\n",
       "      <td>30-54633555-7</td>\n",
       "      <td>Interurbano</td>\n",
       "    </tr>\n",
       "    <tr>\n",
       "      <th>2</th>\n",
       "      <td>BAM</td>\n",
       "      <td>Interurbano más de 100km</td>\n",
       "      <td>4</td>\n",
       "      <td>148</td>\n",
       "      <td>4</td>\n",
       "      <td>COLONIA TIROLESA S.R.L.</td>\n",
       "      <td>30-59873589-8</td>\n",
       "      <td>Interurbano</td>\n",
       "    </tr>\n",
       "    <tr>\n",
       "      <th>3</th>\n",
       "      <td>BAM</td>\n",
       "      <td>Interurbano más de 100km</td>\n",
       "      <td>5</td>\n",
       "      <td>2134</td>\n",
       "      <td>5</td>\n",
       "      <td>EMPRESA CORDOBA S.R.L.</td>\n",
       "      <td>30-54622193-4</td>\n",
       "      <td>Interurbano</td>\n",
       "    </tr>\n",
       "    <tr>\n",
       "      <th>4</th>\n",
       "      <td>BAM</td>\n",
       "      <td>Interurbano más de 100km</td>\n",
       "      <td>6</td>\n",
       "      <td>506</td>\n",
       "      <td>6</td>\n",
       "      <td>EL PORVENIR S.R.L.</td>\n",
       "      <td>30-54643075-4</td>\n",
       "      <td>Interurbano</td>\n",
       "    </tr>\n",
       "  </tbody>\n",
       "</table>\n",
       "</div>"
      ],
      "text/plain": [
       "  PROGRAMA                TIPO_INTER  ID_EMPRESA.1  CANT_MOVIMIENTOS  \\\n",
       "0      BAM  Interurbano más de 100km             1              1715   \n",
       "1      BAM  Interurbano más de 100km             2              2636   \n",
       "2      BAM  Interurbano más de 100km             4               148   \n",
       "3      BAM  Interurbano más de 100km             5              2134   \n",
       "4      BAM  Interurbano más de 100km             6               506   \n",
       "\n",
       "   ID_EMPRESA                RAZON_SOC           CUIL TIPO_SERVICIO  \n",
       "0           1               COATA S.A.  30-54624472-1   Interurbano  \n",
       "1           2    COTA LA CALERA  LTDA.  30-54633555-7   Interurbano  \n",
       "2           4  COLONIA TIROLESA S.R.L.  30-59873589-8   Interurbano  \n",
       "3           5   EMPRESA CORDOBA S.R.L.  30-54622193-4   Interurbano  \n",
       "4           6       EL PORVENIR S.R.L.  30-54643075-4   Interurbano  "
      ]
     },
     "execution_count": 33,
     "metadata": {},
     "output_type": "execute_result"
    }
   ],
   "source": [
    "mov_emp.head(5)"
   ]
  },
  {
   "cell_type": "markdown",
   "metadata": {},
   "source": [
    "#### Check Empresas sin Razon Social"
   ]
  },
  {
   "cell_type": "markdown",
   "metadata": {},
   "source": [
    "Aparecen nulls en la columna RAZON_SOC hay que agregar las empresas faltantes en el archivo de Referencias."
   ]
  },
  {
   "cell_type": "code",
   "execution_count": 34,
   "metadata": {},
   "outputs": [
    {
     "data": {
      "text/plain": [
       "array([], dtype=int64)"
      ]
     },
     "execution_count": 34,
     "metadata": {},
     "output_type": "execute_result"
    }
   ],
   "source": [
    "check = mov_emp\n",
    "check = check[check['RAZON_SOC'].isnull()]\n",
    "check['ID_EMPRESA.1'].unique()"
   ]
  },
  {
   "cell_type": "code",
   "execution_count": 35,
   "metadata": {},
   "outputs": [],
   "source": [
    "mov_emp.to_excel(writer, sheet_name= 'MOV_EMP_MES')"
   ]
  },
  {
   "cell_type": "markdown",
   "metadata": {},
   "source": [
    "#### Cantidad Beneficiarios Activos por Año-Mes"
   ]
  },
  {
   "cell_type": "markdown",
   "metadata": {},
   "source": [
    "Para obtener la cantidad de Beneficiarios Activos por mes, agrupamos teniendo en cuenta CUILs únicos. Como un mismo beneficiario realiza más de un movimiento por mes, necesitamos contar solo una aparición de cada CUIL."
   ]
  },
  {
   "cell_type": "code",
   "execution_count": 36,
   "metadata": {},
   "outputs": [
    {
     "data": {
      "text/html": [
       "<div>\n",
       "<style scoped>\n",
       "    .dataframe tbody tr th:only-of-type {\n",
       "        vertical-align: middle;\n",
       "    }\n",
       "\n",
       "    .dataframe tbody tr th {\n",
       "        vertical-align: top;\n",
       "    }\n",
       "\n",
       "    .dataframe thead th {\n",
       "        text-align: right;\n",
       "    }\n",
       "</style>\n",
       "<table border=\"1\" class=\"dataframe\">\n",
       "  <thead>\n",
       "    <tr style=\"text-align: right;\">\n",
       "      <th></th>\n",
       "      <th>PROGRAMA</th>\n",
       "      <th>TIPO_INTER</th>\n",
       "      <th>CUIL</th>\n",
       "      <th>TIPO_SERVICIO</th>\n",
       "    </tr>\n",
       "  </thead>\n",
       "  <tbody>\n",
       "    <tr>\n",
       "      <th>0</th>\n",
       "      <td>BAM</td>\n",
       "      <td>Interurbano más de 100km</td>\n",
       "      <td>15703</td>\n",
       "      <td>Interurbano</td>\n",
       "    </tr>\n",
       "    <tr>\n",
       "      <th>1</th>\n",
       "      <td>BOS</td>\n",
       "      <td>Interurbano más de 100km</td>\n",
       "      <td>737</td>\n",
       "      <td>Interurbano</td>\n",
       "    </tr>\n",
       "  </tbody>\n",
       "</table>\n",
       "</div>"
      ],
      "text/plain": [
       "  PROGRAMA                TIPO_INTER   CUIL TIPO_SERVICIO\n",
       "0      BAM  Interurbano más de 100km  15703   Interurbano\n",
       "1      BOS  Interurbano más de 100km    737   Interurbano"
      ]
     },
     "execution_count": 36,
     "metadata": {},
     "output_type": "execute_result"
    }
   ],
   "source": [
    "beneficiarios_mes = base_inter.groupby(['PROGRAMA', 'TIPO_INTER']).agg({'CUIL':'nunique'}).reset_index()\n",
    "beneficiarios_mes.rename({'CUIL':'CANT_BENEFICIARIOS'},axis=1)\n",
    "beneficiarios_mes['TIPO_SERVICIO'] = 'Interurbano'\n",
    "beneficiarios_mes"
   ]
  },
  {
   "cell_type": "code",
   "execution_count": 37,
   "metadata": {},
   "outputs": [],
   "source": [
    "beneficiarios_mes.to_excel(writer, sheet_name= 'BENEFICIARIOS_MES')"
   ]
  },
  {
   "cell_type": "markdown",
   "metadata": {},
   "source": [
    "#### Cantidad Beneficiarios Activos por Mes por Cat"
   ]
  },
  {
   "cell_type": "markdown",
   "metadata": {},
   "source": [
    "En este punto, vamos a obtener la cantidad de Beneficiarios Activos por mes teniendo en cuenta el tipo de solicitante y el nivel educativo al que pertenecen. El número obtenido puede no coincidir con el resultado anterior ya que se contarán CUILs únicos dentro de cada categoría y un mismo CUIL puede estar incluido en la categoría Docente y Alumno por ejemplo. El resultado debe ser igual o mayor al obtenido en el paso anterior."
   ]
  },
  {
   "cell_type": "code",
   "execution_count": 38,
   "metadata": {},
   "outputs": [],
   "source": [
    "beneficiarios_cat = base_inter.groupby(['PROGRAMA','TIPO_INTER','ID_TIPO_SOLICITANTE', 'ID_NIVEL_EDUCATIVO']).agg({'CUIL':'nunique'}).reset_index()\n",
    "beneficiarios_cat = beneficiarios_cat.merge(tipo_solicitante, on='ID_TIPO_SOLICITANTE', how='left')\n",
    "beneficiarios_cat = beneficiarios_cat.merge(nivel_educativo, on='ID_NIVEL_EDUCATIVO', how='left')\n",
    "\n",
    "beneficiarios_cat = beneficiarios_cat.rename({'CUIL':'CANT_BENEFICIARIOS'}, axis=1)\n",
    "beneficiarios_cat = beneficiarios_cat.drop(columns = ['ID_TIPO_SOLICITANTE', 'ID_NIVEL_EDUCATIVO'])#.set_index(['ANO_MOVIMIENTO','NIVEL_EDUCATIVO', 'TIPO_SOLICITANTE'])\n",
    "beneficiarios_cat['TIPO_SERVICIO'] = 'Interurbano'"
   ]
  },
  {
   "cell_type": "code",
   "execution_count": 39,
   "metadata": {},
   "outputs": [],
   "source": [
    "beneficiarios_cat.to_excel(writer, sheet_name= 'BENEFICIARIOS_CAT')"
   ]
  },
  {
   "cell_type": "markdown",
   "metadata": {},
   "source": [
    "#### Cantidad Beneficios Activos por Año-Mes"
   ]
  },
  {
   "cell_type": "markdown",
   "metadata": {},
   "source": [
    "En este paso, lo que se busca es obtener la cantidad de Beneficios Activos Totales por Mes. La cantidad de Beneficios y Beneficiarios suele diferir ya que un beneficiario puede obtener más de un beneficio. Se agrupa teniendo en cuenta apariciones únicas de la variable 'ID_AUTORIZACIÓN' que es la que identifica a cada beneficio entregado. "
   ]
  },
  {
   "cell_type": "code",
   "execution_count": 40,
   "metadata": {},
   "outputs": [],
   "source": [
    "beneficios_mes = base_inter.groupby(['PROGRAMA', 'TIPO_INTER']).agg({'ID_AUTORIZACION':'nunique'}).reset_index()\n",
    "beneficios_mes.rename({'ID_AUTORIZACION':'CANT_BENEFICIOS'},axis=1)\n",
    "beneficios_mes['TIPO_SERVICIO'] = 'Interurbano'"
   ]
  },
  {
   "cell_type": "code",
   "execution_count": 41,
   "metadata": {},
   "outputs": [],
   "source": [
    "beneficios_mes.to_excel(writer, sheet_name= 'BENEFICIOS_MES')"
   ]
  },
  {
   "cell_type": "markdown",
   "metadata": {},
   "source": [
    "#### Cantidad de Beneficios Activos por Programa, Año-Mes y Categoría"
   ]
  },
  {
   "cell_type": "markdown",
   "metadata": {},
   "source": [
    "Al resultado anterior se lo visualiza acá abierto por Programa, Tipo de Solicitante y Nivel Educativo. En este caso, al tratarse de beneficios y no beneficiarios, el resultado cerrado del punto anterior debe coincidir con el resultado obtenido aquí."
   ]
  },
  {
   "cell_type": "code",
   "execution_count": 42,
   "metadata": {},
   "outputs": [],
   "source": [
    "beneficios_cat = base_inter.groupby(['PROGRAMA','TIPO_INTER','ID_TIPO_SOLICITANTE', 'ID_NIVEL_EDUCATIVO']).agg({'ID_AUTORIZACION':'nunique'})\n",
    "beneficios_cat = beneficios_cat.reset_index()\n",
    "beneficios_cat = beneficios_cat.merge(tipo_solicitante, on='ID_TIPO_SOLICITANTE', how='left')\n",
    "beneficios_cat = beneficios_cat.merge(nivel_educativo, on='ID_NIVEL_EDUCATIVO', how='left')\n",
    "\n",
    "beneficios_cat = beneficios_cat.drop(columns = ['ID_TIPO_SOLICITANTE', 'ID_NIVEL_EDUCATIVO'])#.set_index(['ANO_MOVIMIENTO', 'NIVEL_EDUCATIVO', 'TIPO_SOLICITANTE'])\n",
    "beneficios_cat.rename({'ID_AUTORIZACION':'CANT_BENEFICIOS'},axis=1)\n",
    "beneficios_cat['TIPO_SERVICIO'] = 'Interurbano'"
   ]
  },
  {
   "cell_type": "code",
   "execution_count": 43,
   "metadata": {},
   "outputs": [],
   "source": [
    "beneficios_cat.to_excel(writer, sheet_name= 'BENEFICIOS_CAT')"
   ]
  },
  {
   "cell_type": "markdown",
   "metadata": {},
   "source": [
    "#### Beneficiarios con Más de un Beneficio en Mismo Servicio"
   ]
  },
  {
   "cell_type": "markdown",
   "metadata": {},
   "source": [
    "En este punto, se busca saber qué cantidad de beneficios tiene cada beneficiario. Para ello, en un primer paso se agrupa a la tabla por CUIL teniendo en cuenta ID_AUTORIZACION únicos. Esto nos mostrará cuantas autorizaciones tiene cada uno de los CUILs que aparece en la tabla. Luego se reagrupa la tabla en función del resultado anterior, contando la cantidad de CUIL únicos por cantidad de autorizaciones."
   ]
  },
  {
   "cell_type": "code",
   "execution_count": 44,
   "metadata": {},
   "outputs": [
    {
     "data": {
      "text/html": [
       "<div>\n",
       "<style scoped>\n",
       "    .dataframe tbody tr th:only-of-type {\n",
       "        vertical-align: middle;\n",
       "    }\n",
       "\n",
       "    .dataframe tbody tr th {\n",
       "        vertical-align: top;\n",
       "    }\n",
       "\n",
       "    .dataframe thead th {\n",
       "        text-align: right;\n",
       "    }\n",
       "</style>\n",
       "<table border=\"1\" class=\"dataframe\">\n",
       "  <thead>\n",
       "    <tr style=\"text-align: right;\">\n",
       "      <th></th>\n",
       "      <th>PROGRAMA</th>\n",
       "      <th>TIPO_INTER</th>\n",
       "      <th>CANT_AUTORIZACIONES</th>\n",
       "      <th>CUIL</th>\n",
       "      <th>TIPO_SERVICIO</th>\n",
       "    </tr>\n",
       "  </thead>\n",
       "  <tbody>\n",
       "    <tr>\n",
       "      <th>0</th>\n",
       "      <td>BAM</td>\n",
       "      <td>Interurbano más de 100km</td>\n",
       "      <td>1</td>\n",
       "      <td>9687</td>\n",
       "      <td>Interurbano</td>\n",
       "    </tr>\n",
       "    <tr>\n",
       "      <th>1</th>\n",
       "      <td>BAM</td>\n",
       "      <td>Interurbano más de 100km</td>\n",
       "      <td>2</td>\n",
       "      <td>4804</td>\n",
       "      <td>Interurbano</td>\n",
       "    </tr>\n",
       "    <tr>\n",
       "      <th>2</th>\n",
       "      <td>BAM</td>\n",
       "      <td>Interurbano más de 100km</td>\n",
       "      <td>3</td>\n",
       "      <td>797</td>\n",
       "      <td>Interurbano</td>\n",
       "    </tr>\n",
       "    <tr>\n",
       "      <th>3</th>\n",
       "      <td>BAM</td>\n",
       "      <td>Interurbano más de 100km</td>\n",
       "      <td>4</td>\n",
       "      <td>320</td>\n",
       "      <td>Interurbano</td>\n",
       "    </tr>\n",
       "    <tr>\n",
       "      <th>4</th>\n",
       "      <td>BAM</td>\n",
       "      <td>Interurbano más de 100km</td>\n",
       "      <td>5</td>\n",
       "      <td>53</td>\n",
       "      <td>Interurbano</td>\n",
       "    </tr>\n",
       "    <tr>\n",
       "      <th>5</th>\n",
       "      <td>BAM</td>\n",
       "      <td>Interurbano más de 100km</td>\n",
       "      <td>6</td>\n",
       "      <td>26</td>\n",
       "      <td>Interurbano</td>\n",
       "    </tr>\n",
       "    <tr>\n",
       "      <th>6</th>\n",
       "      <td>BAM</td>\n",
       "      <td>Interurbano más de 100km</td>\n",
       "      <td>7</td>\n",
       "      <td>10</td>\n",
       "      <td>Interurbano</td>\n",
       "    </tr>\n",
       "    <tr>\n",
       "      <th>7</th>\n",
       "      <td>BAM</td>\n",
       "      <td>Interurbano más de 100km</td>\n",
       "      <td>8</td>\n",
       "      <td>6</td>\n",
       "      <td>Interurbano</td>\n",
       "    </tr>\n",
       "    <tr>\n",
       "      <th>8</th>\n",
       "      <td>BOS</td>\n",
       "      <td>Interurbano más de 100km</td>\n",
       "      <td>1</td>\n",
       "      <td>733</td>\n",
       "      <td>Interurbano</td>\n",
       "    </tr>\n",
       "    <tr>\n",
       "      <th>9</th>\n",
       "      <td>BOS</td>\n",
       "      <td>Interurbano más de 100km</td>\n",
       "      <td>2</td>\n",
       "      <td>4</td>\n",
       "      <td>Interurbano</td>\n",
       "    </tr>\n",
       "  </tbody>\n",
       "</table>\n",
       "</div>"
      ],
      "text/plain": [
       "  PROGRAMA                TIPO_INTER  CANT_AUTORIZACIONES  CUIL TIPO_SERVICIO\n",
       "0      BAM  Interurbano más de 100km                    1  9687   Interurbano\n",
       "1      BAM  Interurbano más de 100km                    2  4804   Interurbano\n",
       "2      BAM  Interurbano más de 100km                    3   797   Interurbano\n",
       "3      BAM  Interurbano más de 100km                    4   320   Interurbano\n",
       "4      BAM  Interurbano más de 100km                    5    53   Interurbano\n",
       "5      BAM  Interurbano más de 100km                    6    26   Interurbano\n",
       "6      BAM  Interurbano más de 100km                    7    10   Interurbano\n",
       "7      BAM  Interurbano más de 100km                    8     6   Interurbano\n",
       "8      BOS  Interurbano más de 100km                    1   733   Interurbano\n",
       "9      BOS  Interurbano más de 100km                    2     4   Interurbano"
      ]
     },
     "execution_count": 44,
     "metadata": {},
     "output_type": "execute_result"
    }
   ],
   "source": [
    "multibeneficios = base_inter[base_inter['PROGRAMA']=='BEG']\n",
    "multibeneficios = base_inter.groupby(['PROGRAMA','TIPO_INTER','CUIL']).agg({'ID_AUTORIZACION':'nunique'}).reset_index()\n",
    "multibeneficios = multibeneficios.rename({'ID_AUTORIZACION':'CANT_AUTORIZACIONES'},axis=1)\n",
    "multibeneficios = multibeneficios.groupby(['PROGRAMA','TIPO_INTER','CANT_AUTORIZACIONES']).agg({'CUIL':'count'}).reset_index()\n",
    "multibeneficios.rename({'CUIL':'BENEFICIARIOS'},axis=1)\n",
    "multibeneficios['TIPO_SERVICIO'] = 'Interurbano'\n",
    "multibeneficios"
   ]
  },
  {
   "cell_type": "code",
   "execution_count": 45,
   "metadata": {},
   "outputs": [],
   "source": [
    "multibeneficios.to_excel(writer, sheet_name= 'MULTIBENEFICIOS')"
   ]
  },
  {
   "cell_type": "markdown",
   "metadata": {},
   "source": [
    "### Tasa Utilización por Mes por Autorizacion"
   ]
  },
  {
   "cell_type": "markdown",
   "metadata": {},
   "source": [
    "La lógica para el cálculo de la Tasa de Utilización por Mes varia según el programa. Este cálculo se hace por separado para cada uno de los 3 programas para finalmente obtener un resultado agrupado"
   ]
  },
  {
   "cell_type": "markdown",
   "metadata": {},
   "source": [
    "### 1. Tasa Utilización BEG"
   ]
  },
  {
   "cell_type": "markdown",
   "metadata": {},
   "source": [
    "#### 1.1 Filtra Base para BEG"
   ]
  },
  {
   "cell_type": "code",
   "execution_count": 46,
   "metadata": {},
   "outputs": [],
   "source": [
    "base_beg = base_inter.copy()\n",
    "base_beg = base_beg[base_beg['PROGRAMA']=='BEG']"
   ]
  },
  {
   "cell_type": "markdown",
   "metadata": {},
   "source": [
    "#### 1.2 Calcula Variable Cantidad de Usos Autorizados"
   ]
  },
  {
   "cell_type": "markdown",
   "metadata": {},
   "source": [
    "En el caso de los boletos BEG Urbano Interior, la variable de interés que nos permite saber los días autorizados para cada beneficiario es \"CANT_USO_X_DIA_SEM\" por lo que nos interesa analizarla en profundidad. Para empezar, necesitamos que no existan casos nulos en esta columna para poder realizar distintas operaciones. Por eso, rellenamos los valores nulos que puedan aparecer con 0."
   ]
  },
  {
   "cell_type": "code",
   "execution_count": 47,
   "metadata": {},
   "outputs": [],
   "source": [
    "base_beg['CANT_USO_X_DIA_SEM'] = base_beg['CANT_USO_X_DIA_SEM'].fillna(0) "
   ]
  },
  {
   "cell_type": "markdown",
   "metadata": {},
   "source": [
    "#### 1.2.1 Crea Columna para Cada Día de la Semana con Boletos Autorizados"
   ]
  },
  {
   "cell_type": "markdown",
   "metadata": {},
   "source": [
    "La variable \"CANT_USO_X_DIA_SEM\" indica con un valor (que indica la cantidad de boletos autorizados) si es un día en el que beneficiario tiene autorización para utilizar la tarjeta y con 0 en caso contrario. Para saber cuántos boletos tiene autorizado en total, tenemos que sumar los digitos de esta columna. Para eso, usamos la función digitize que separa cada uno de los dígitos en una columna separada, facilitando el cálculo."
   ]
  },
  {
   "cell_type": "code",
   "execution_count": 48,
   "metadata": {},
   "outputs": [],
   "source": [
    "def digit(x, n):\n",
    "    \"\"\"Return the n-th digit of integer in base 10\"\"\"\n",
    "    return (x // 10**n) % 10\n",
    "\n",
    "def digitize(df, key, n):\n",
    "    \"\"\"Extract n less significant digits from an integer in base 10\"\"\"\n",
    "    for i in range(n):\n",
    "        df['x%d' % i] = digit(df[key], n-i-1) "
   ]
  },
  {
   "cell_type": "code",
   "execution_count": 49,
   "metadata": {},
   "outputs": [],
   "source": [
    "digitize(base_beg, 'CANT_USO_X_DIA_SEM', 7)"
   ]
  },
  {
   "cell_type": "code",
   "execution_count": 50,
   "metadata": {},
   "outputs": [],
   "source": [
    "dict = {'x0':'Monday',\n",
    "        'x1':'Tuesday',\n",
    "        'x2':'Wednesday',\n",
    "        'x3':'Thursday',\n",
    "        'x4':'Friday',\n",
    "        'x5':'Saturday',\n",
    "        'x6':'Sunday'\n",
    "       }\n",
    "base_beg.rename(columns=dict, inplace=True)"
   ]
  },
  {
   "cell_type": "code",
   "execution_count": 51,
   "metadata": {},
   "outputs": [],
   "source": [
    "cols_to_sum = ['Monday', 'Tuesday', 'Wednesday', 'Thursday', 'Friday', 'Saturday', 'Sunday']\n",
    "base_beg['CANT_AUTO_X_SEM'] = base_beg[cols_to_sum].sum(axis=1)"
   ]
  },
  {
   "cell_type": "code",
   "execution_count": 52,
   "metadata": {},
   "outputs": [],
   "source": [
    "beg_menos100 = base_beg.copy()\n",
    "beg_menos100 = base_beg[base_beg['TIPO_INTER']=='Interurbano menos de 100km']\n",
    "beg_mas100 = base_beg.copy()\n",
    "beg_mas100 = base_beg[base_beg['TIPO_INTER']=='Interurbano mas de 100km']"
   ]
  },
  {
   "cell_type": "markdown",
   "metadata": {},
   "source": [
    " #### 1.2 Calcula Tasa Uso BEG Interurbano menos de 100km"
   ]
  },
  {
   "cell_type": "markdown",
   "metadata": {},
   "source": [
    "En este punto se obtiene la tasa de utilización mensual de los boletos por Tipo de Solicitante y Nivel Educativo. Para ello se siguen los pasos a continuación:\n",
    "   1. Se agrupa la tabla por Mes, Tipo de Solicitante, Nivel Educativo, Autorización y Cantidad Autorizada por Semana.\n",
    "   2. Se modifica el formato de la variable Mes para que quede expresada con el formato de date lo que permitirá seguir trabajando.\n",
    "   3. Se crea una variable auxiliar \"ULT_DIA_MES\" que nos indica el ultimo día del mes correspondiente a la variables \"ANO_MES_MOVIMIENTO\"\n",
    "   4. Con la función np.busday_count() se obtiene la cantidad de días hábiles en el mes. La función necesita tener indicado un comienzo y un final del intervalo, razón por la cual se creó la variable auxiliar anterior.\n",
    "   5. Luego de obtener la cantidad de días hábiles en el mes, se divide el resultado por 5 para obtener la cantidad de semanas promedio de ese mes (\"CANT_SEM_MES\").\n",
    "   6. Se obtiene la cantidad total de boletos autorizados en el mes multiplicando la cantidad de boletos autorizados por semana por la cantidad de semanas en el mes.\n",
    "   7. Finalmente, la tasa de uso es obtenida como el cociente entre la cantidad de movimientos utilizados y los autorizados."
   ]
  },
  {
   "cell_type": "code",
   "execution_count": 53,
   "metadata": {},
   "outputs": [
    {
     "data": {
      "text/html": [
       "<div>\n",
       "<style scoped>\n",
       "    .dataframe tbody tr th:only-of-type {\n",
       "        vertical-align: middle;\n",
       "    }\n",
       "\n",
       "    .dataframe tbody tr th {\n",
       "        vertical-align: top;\n",
       "    }\n",
       "\n",
       "    .dataframe thead th {\n",
       "        text-align: right;\n",
       "    }\n",
       "</style>\n",
       "<table border=\"1\" class=\"dataframe\">\n",
       "  <thead>\n",
       "    <tr style=\"text-align: right;\">\n",
       "      <th></th>\n",
       "      <th>ANO_MES_MOVIMIENTO</th>\n",
       "      <th>PROGRAMA</th>\n",
       "      <th>TIPO_INTER</th>\n",
       "      <th>ID_AUTORIZACION</th>\n",
       "      <th>TIPO_SOLICITANTE</th>\n",
       "      <th>NIVEL_EDUCATIVO</th>\n",
       "      <th>TASA_USO</th>\n",
       "    </tr>\n",
       "  </thead>\n",
       "  <tbody>\n",
       "  </tbody>\n",
       "</table>\n",
       "</div>"
      ],
      "text/plain": [
       "Empty DataFrame\n",
       "Columns: [ANO_MES_MOVIMIENTO, PROGRAMA, TIPO_INTER, ID_AUTORIZACION, TIPO_SOLICITANTE, NIVEL_EDUCATIVO, TASA_USO]\n",
       "Index: []"
      ]
     },
     "execution_count": 53,
     "metadata": {},
     "output_type": "execute_result"
    }
   ],
   "source": [
    "tasa_beg_menos100 = beg_menos100.groupby(['ANO_MES_MOVIMIENTO','PROGRAMA','TIPO_INTER','ID_TIPO_SOLICITANTE', 'ID_NIVEL_EDUCATIVO','ID_AUTORIZACION', 'CANT_AUTO_X_SEM'])['ID_MOVIMIENTO'].count().reset_index()\n",
    "tasa_beg_menos100['ANO_MES_MOVIMIENTO_aux'] = pd.to_datetime(tasa_beg_menos100['ANO_MES_MOVIMIENTO'])\n",
    "\n",
    "tasa_beg_menos100['ULT_DIA_MES'] = tasa_beg_menos100['ANO_MES_MOVIMIENTO_aux'] + pd.offsets.MonthEnd(1)\n",
    "\n",
    "tasa_beg_menos100['DIAS_HABILES'] = np.busday_count(tasa_beg_menos100['ANO_MES_MOVIMIENTO_aux'].values.astype('datetime64[D]'),tasa_beg_menos100['ULT_DIA_MES'].values.astype('datetime64[D]'))\n",
    "\n",
    "tasa_beg_menos100['CANT_SEM_MES'] = tasa_beg_menos100['DIAS_HABILES']/5\n",
    "\n",
    "tasa_beg_menos100['CANT_AUTO_MES'] = tasa_beg_menos100['CANT_SEM_MES']*tasa_beg_menos100['CANT_AUTO_X_SEM']\n",
    "tasa_beg_menos100['TASA_USO'] = tasa_beg_menos100['ID_MOVIMIENTO']/tasa_beg_menos100['CANT_AUTO_MES']\n",
    "\n",
    "tasa_beg_menos100 = tasa_beg_menos100.merge(tipo_solicitante, on='ID_TIPO_SOLICITANTE', how='left')\n",
    "tasa_beg_menos100 = tasa_beg_menos100.merge(nivel_educativo, on='ID_NIVEL_EDUCATIVO', how='left')\n",
    "\n",
    "tasa_beg_menos100 = tasa_beg_menos100.drop(columns = ['ID_TIPO_SOLICITANTE', 'ID_NIVEL_EDUCATIVO'])\n",
    "tasa_beg_menos100 = tasa_beg_menos100[['ANO_MES_MOVIMIENTO', 'PROGRAMA','TIPO_INTER','ID_AUTORIZACION', 'TIPO_SOLICITANTE', 'NIVEL_EDUCATIVO', 'TASA_USO']]\n",
    "tasa_beg_menos100.head(5)"
   ]
  },
  {
   "cell_type": "markdown",
   "metadata": {},
   "source": [
    " #### 1.3 Calcula Tasa Uso BEG Interurbano más de 100km"
   ]
  },
  {
   "cell_type": "markdown",
   "metadata": {},
   "source": [
    "En el caso de los Interurbanos más de 100km, las autorizaciones son mensuales. Tenemos que utilizar la variable \"CANT_USO_X_MES\"."
   ]
  },
  {
   "cell_type": "code",
   "execution_count": 54,
   "metadata": {},
   "outputs": [
    {
     "data": {
      "text/plain": [
       "Series([], Name: TIPO_INTER, dtype: int64)"
      ]
     },
     "execution_count": 54,
     "metadata": {},
     "output_type": "execute_result"
    }
   ],
   "source": [
    "pd.value_counts (base_beg['TIPO_INTER'])"
   ]
  },
  {
   "cell_type": "code",
   "execution_count": 55,
   "metadata": {},
   "outputs": [],
   "source": [
    "beg_mas100 = base_beg.copy()\n",
    "beg_mas100 = base_beg[base_beg['TIPO_INTER']=='Interurbano más de 100km']"
   ]
  },
  {
   "cell_type": "code",
   "execution_count": 56,
   "metadata": {},
   "outputs": [
    {
     "data": {
      "text/html": [
       "<div>\n",
       "<style scoped>\n",
       "    .dataframe tbody tr th:only-of-type {\n",
       "        vertical-align: middle;\n",
       "    }\n",
       "\n",
       "    .dataframe tbody tr th {\n",
       "        vertical-align: top;\n",
       "    }\n",
       "\n",
       "    .dataframe thead th {\n",
       "        text-align: right;\n",
       "    }\n",
       "</style>\n",
       "<table border=\"1\" class=\"dataframe\">\n",
       "  <thead>\n",
       "    <tr style=\"text-align: right;\">\n",
       "      <th></th>\n",
       "      <th>ANO_MES_MOVIMIENTO</th>\n",
       "      <th>PROGRAMA</th>\n",
       "      <th>TIPO_INTER</th>\n",
       "      <th>ID_AUTORIZACION</th>\n",
       "      <th>TIPO_SOLICITANTE</th>\n",
       "      <th>NIVEL_EDUCATIVO</th>\n",
       "      <th>TASA_USO</th>\n",
       "    </tr>\n",
       "  </thead>\n",
       "  <tbody>\n",
       "  </tbody>\n",
       "</table>\n",
       "</div>"
      ],
      "text/plain": [
       "Empty DataFrame\n",
       "Columns: [ANO_MES_MOVIMIENTO, PROGRAMA, TIPO_INTER, ID_AUTORIZACION, TIPO_SOLICITANTE, NIVEL_EDUCATIVO, TASA_USO]\n",
       "Index: []"
      ]
     },
     "execution_count": 56,
     "metadata": {},
     "output_type": "execute_result"
    }
   ],
   "source": [
    "tasa_beg_mas100 = beg_mas100.groupby(['ANO_MES_MOVIMIENTO','PROGRAMA','TIPO_INTER','ID_TIPO_SOLICITANTE', 'ID_NIVEL_EDUCATIVO','ID_AUTORIZACION','CANT_USO_X_MES'])['ID_MOVIMIENTO'].count().reset_index()\n",
    "tasa_beg_mas100 = tasa_beg_mas100.rename({'ID_MOVIMIENTO':'CANT_MOVIMIENTOS'},axis=1)\n",
    "tasa_beg_mas100['TASA_USO'] = tasa_beg_mas100['CANT_MOVIMIENTOS']/tasa_beg_mas100['CANT_USO_X_MES']\n",
    "\n",
    "tasa_beg_mas100 = tasa_beg_mas100.merge(tipo_solicitante, on='ID_TIPO_SOLICITANTE', how='left')\n",
    "tasa_beg_mas100 = tasa_beg_mas100.merge(nivel_educativo, on='ID_NIVEL_EDUCATIVO', how='left')\n",
    "\n",
    "tasa_beg_mas100 = tasa_beg_mas100.drop(columns = ['ID_TIPO_SOLICITANTE', 'ID_NIVEL_EDUCATIVO'])\n",
    "tasa_beg_mas100 = tasa_beg_mas100[['ANO_MES_MOVIMIENTO', 'PROGRAMA','TIPO_INTER','ID_AUTORIZACION', 'TIPO_SOLICITANTE', 'NIVEL_EDUCATIVO', 'TASA_USO']]\n",
    "tasa_beg_mas100.head(5)"
   ]
  },
  {
   "cell_type": "code",
   "execution_count": 57,
   "metadata": {},
   "outputs": [
    {
     "data": {
      "text/plain": [
       "(0, 7)"
      ]
     },
     "execution_count": 57,
     "metadata": {},
     "output_type": "execute_result"
    }
   ],
   "source": [
    "tasa_beg_mas100.shape"
   ]
  },
  {
   "cell_type": "markdown",
   "metadata": {},
   "source": [
    "### 2. Tasa Utilización BOS"
   ]
  },
  {
   "cell_type": "markdown",
   "metadata": {},
   "source": [
    "#### 2.1 Filtra Base para BOS"
   ]
  },
  {
   "cell_type": "code",
   "execution_count": 58,
   "metadata": {},
   "outputs": [],
   "source": [
    "#base_bos = base_inter.copy()\n",
    "#base_bos = base_bos[base_bos['PROGRAMA']=='BOS']\n",
    "#base_bos"
   ]
  },
  {
   "cell_type": "markdown",
   "metadata": {},
   "source": [
    "#### 2.2 Calcula Variable Cantidad de Usos Autorizados"
   ]
  },
  {
   "cell_type": "markdown",
   "metadata": {},
   "source": [
    "En el caso de los boletos BOS Interurbano, la variable de interés que nos permite saber los días autorizados para cada beneficiario es \"CANT_USO_X_DIA_SEM\" por lo que nos interesa analizarla en profundidad. Para empezar, necesitamos que no existan casos nulos en esta columna para poder realizar distintas operaciones. Por eso, rellenamos los valores nulos que puedan aparecer con 0."
   ]
  },
  {
   "cell_type": "code",
   "execution_count": 59,
   "metadata": {},
   "outputs": [],
   "source": [
    "#base_bos['CANT_USO_X_DIA_SEM'] = base_bos['CANT_USO_X_DIA_SEM'].fillna(0) \n",
    "#base_bos"
   ]
  },
  {
   "cell_type": "markdown",
   "metadata": {},
   "source": [
    "#### 2.2.1 Crea Columna para Cada Día de la Semana con Boletos Autorizados"
   ]
  },
  {
   "cell_type": "code",
   "execution_count": 60,
   "metadata": {},
   "outputs": [],
   "source": [
    "#digitize(base_bos, 'CANT_USO_X_DIA_SEM', 7)\n",
    "#base_bos"
   ]
  },
  {
   "cell_type": "code",
   "execution_count": 61,
   "metadata": {},
   "outputs": [],
   "source": [
    "#dict = {'x0':'Monday',\n",
    " #       'x1':'Tuesday',\n",
    "  #      'x2':'Wednesday',\n",
    "   #     'x3':'Thursday',\n",
    "    #    'x4':'Friday',\n",
    "     #  'x5':'Saturday',\n",
    "      #  'x6':'Sunday' }\n",
    "#base_bos.rename(columns=dict, inplace=True)\n",
    "#base_bos"
   ]
  },
  {
   "cell_type": "code",
   "execution_count": 62,
   "metadata": {},
   "outputs": [],
   "source": [
    "#cols_to_sum = ['Monday', 'Tuesday', 'Wednesday', 'Thursday', 'Friday', 'Saturday', 'Sunday']\n",
    "#base_bos['CANT_AUTO_X_SEM'] = base_bos[cols_to_sum].sum(axis=1)\n",
    "#base_bos"
   ]
  },
  {
   "cell_type": "markdown",
   "metadata": {},
   "source": [
    " #### 2.2 Calcula Tasa Uso BOS"
   ]
  },
  {
   "cell_type": "markdown",
   "metadata": {},
   "source": [
    "En este punto se obtiene la tasa de utilización mensual de los boletos por Tipo de Solicitante. Para ello se siguen los pasos a continuación:\n",
    "   1. Se agrupa la tabla por Mes, Tipo de Solicitante, Autorización y Cantidad Autorizada por Semana.\n",
    "   2. Se modifica el formato de la variable Mes para que quede expresada con el formato de date lo que permitirá seguir trabajando.\n",
    "   3. Se crea una variable auxiliar \"ULT_DIA_MES\" que nos indica el ultimo día del mes correspondiente a la variables \"ANO_MES_MOVIMIENTO\"\n",
    "   4. Con la función np.busday_count() se obtiene la cantidad de días hábiles en el mes. La función necesita tener indicado un comienzo y un final del intervalo, razón por la cual se creó la variable auxiliar anterior.\n",
    "   5. Luego de obtener la cantidad de días hábiles en el mes, se divide el resultado por 5 para obtener la cantidad de semanas promedio de ese mes (\"CANT_SEM_MES\").\n",
    "   6. Se obtiene la cantidad total de boletos autorizados en el mes multiplicando la cantidad de boletos autorizados por semana por la cantidad de semanas en el mes.\n",
    "   7. Finalmente, la tasa de uso es obtenida como el cociente entre la cantidad de movimientos utilizados y los autorizados."
   ]
  },
  {
   "cell_type": "code",
   "execution_count": 63,
   "metadata": {},
   "outputs": [],
   "source": [
    "#tasa_bos = base_bos.groupby(['ANO_MES_MOVIMIENTO','PROGRAMA','TIPO_INTER','ID_TIPO_SOLICITANTE','ID_NIVEL_EDUCATIVO','ID_AUTORIZACION', 'CANT_AUTO_X_SEM'])['ID_MOVIMIENTO'].count().reset_index()\n",
    "#tasa_bos['ANO_MES_MOVIMIENTO_aux'] = pd.to_datetime(tasa_bos['ANO_MES_MOVIMIENTO'])\n",
    "#tasa_bos['ULT_DIA_MES'] = tasa_bos['ANO_MES_MOVIMIENTO_aux'] + pd.offsets.MonthEnd(1)\n",
    "\n",
    "#tasa_bos['DIAS_HABILES'] = np.busday_count(tasa_bos['ANO_MES_MOVIMIENTO_aux'].values.astype('datetime64[D]'),tasa_bos['ULT_DIA_MES'].values.astype('datetime64[D]'))\n",
    "\n",
    "#tasa_bos['CANT_SEM_MES'] = tasa_bos['DIAS_HABILES']/5\n",
    "\n",
    "#tasa_bos['CANT_AUTO_MES'] = tasa_bos['CANT_SEM_MES']*tasa_bos['CANT_AUTO_X_SEM']\n",
    "#tasa_bos['CANT_AUTO_MES'] = np.where(tasa_bos['CANT_AUTO_MES']==0, 16, tasa_bos['CANT_AUTO_MES'])\n",
    "#tasa_bos['TASA_USO'] = tasa_bos['ID_MOVIMIENTO']/tasa_bos['CANT_AUTO_MES']\n",
    "\n",
    "#tasa_bos = tasa_bos.merge(tipo_solicitante, on='ID_TIPO_SOLICITANTE', how='left')\n",
    "#tasa_bos = tasa_bos.merge(nivel_educativo, on='ID_NIVEL_EDUCATIVO', how='left')\n",
    "\n",
    "#tasa_bos = tasa_bos.drop(columns = ['ID_TIPO_SOLICITANTE', 'ID_NIVEL_EDUCATIVO'])\n",
    "#tasa_bos = tasa_bos[['ANO_MES_MOVIMIENTO', 'PROGRAMA','TIPO_INTER','ID_AUTORIZACION', 'TIPO_SOLICITANTE', 'NIVEL_EDUCATIVO', 'TASA_USO']]\n",
    "\n",
    "#tasa_bos"
   ]
  },
  {
   "cell_type": "markdown",
   "metadata": {},
   "source": [
    "### 3. Tasa Utilización BAM"
   ]
  },
  {
   "cell_type": "markdown",
   "metadata": {},
   "source": [
    "#### 3.1 Filtra Base para BAM"
   ]
  },
  {
   "cell_type": "markdown",
   "metadata": {},
   "source": [
    "base_bam = base_inter.copy()\n",
    "base_bam = base_bam[base_bam['PROGRAMA']=='BAM']\n",
    "base_bam['TIPO_SERVICIO']='Interurbano'\n",
    "base_bam"
   ]
  },
  {
   "cell_type": "markdown",
   "metadata": {},
   "source": [
    "test = base_bam[(base_bam['ID_AUTORIZACION']==6446622)&(base_bam['ANO_MES_MOVIMIENTO']=='02/2021')]\n",
    "test"
   ]
  },
  {
   "cell_type": "markdown",
   "metadata": {},
   "source": [
    "#### 3.2 Une con Tabla Referencias con Montos"
   ]
  },
  {
   "cell_type": "markdown",
   "metadata": {},
   "source": [
    "base_bam = base_bam.merge(regla_bam, on=['TIPO_SERVICIO', 'ID_DISTANCIA', 'PROGRAMA'], how='left')\n",
    "base_bam['MONTO_ULTIMO'] = base_bam['MONTO_ULTIMO'].str.replace(',', '.').astype(float) \n",
    "base_bam = base_bam[base_bam['MONTO_ULTIMO'].between(base_bam['MONTO_DESDE'],base_bam['MONTO_HASTA'])]\n",
    "base_bam"
   ]
  },
  {
   "cell_type": "markdown",
   "metadata": {},
   "source": [
    "#### 3.2 Calcula Tasa Uso BAM"
   ]
  },
  {
   "cell_type": "markdown",
   "metadata": {},
   "source": [
    "En este punto se obtiene la tasa de utilización mensual de los boletos. Para ello se siguen los pasos a continuación:\n",
    "   1. Se agrupa la tabla por Mes y Cantidad Autorizada por Mes.\n",
    "   2. La tasa de uso es obtenida como el cociente entre la cantidad de movimientos utilizados y los autorizados."
   ]
  },
  {
   "cell_type": "markdown",
   "metadata": {},
   "source": [
    "tasa_bam = base_bam\n",
    "tasa_bam = tasa_bam.groupby(['ANO_MES_MOVIMIENTO','PROGRAMA','TIPO_INTER','ID_TIPO_SOLICITANTE', 'ID_NIVEL_EDUCATIVO','ID_AUTORIZACION', 'CANT_BOLETOS'])['ID_MOVIMIENTO'].count().reset_index()\n",
    "tasa_bam['TASA_USO'] = tasa_bam['ID_MOVIMIENTO']/tasa_bam['CANT_BOLETOS']\n",
    "\n",
    "tasa_bam\n",
    "tasa_bam = tasa_bam.merge(tipo_solicitante, on='ID_TIPO_SOLICITANTE', how='left')\n",
    "tasa_bam = tasa_bam.merge(nivel_educativo, on='ID_NIVEL_EDUCATIVO', how='left')\n",
    "\n",
    "tasa_bam = tasa_bam.drop(columns = ['ID_TIPO_SOLICITANTE', 'ID_NIVEL_EDUCATIVO'])\n",
    "tasa_bam = tasa_bam[['ANO_MES_MOVIMIENTO', 'PROGRAMA','TIPO_INTER', 'ID_AUTORIZACION', 'TIPO_SOLICITANTE', 'NIVEL_EDUCATIVO', 'TASA_USO']]\n",
    "\n",
    "tasa_bam"
   ]
  },
  {
   "cell_type": "markdown",
   "metadata": {},
   "source": [
    "### 5. Tabla Tasa General"
   ]
  },
  {
   "cell_type": "code",
   "execution_count": 64,
   "metadata": {},
   "outputs": [
    {
     "name": "stderr",
     "output_type": "stream",
     "text": [
      "C:\\Users\\Control 2\\AppData\\Local\\Temp\\ipykernel_5092\\1155556068.py:1: FutureWarning: The frame.append method is deprecated and will be removed from pandas in a future version. Use pandas.concat instead.\n",
      "  tasa = tasa_beg_menos100.append([tasa_beg_mas100])\n"
     ]
    }
   ],
   "source": [
    "tasa = tasa_beg_menos100.append([tasa_beg_mas100])\n",
    "tasa['TIPO_SERVICIO'] = 'Interurbano'"
   ]
  },
  {
   "cell_type": "code",
   "execution_count": 65,
   "metadata": {},
   "outputs": [],
   "source": [
    "tasa.to_excel(writer, sheet_name= 'TASA_TABLA')"
   ]
  },
  {
   "cell_type": "markdown",
   "metadata": {},
   "source": [
    "#### Promedio Tasa Uso por Mes"
   ]
  },
  {
   "cell_type": "markdown",
   "metadata": {},
   "source": [
    "En el punto anterior, se obtuvo la tasa de uso de cada autorización por mes. Aquí se calcula la tasa promedio por Tipo de Solicitante y Nivel Educativo."
   ]
  },
  {
   "cell_type": "code",
   "execution_count": 66,
   "metadata": {},
   "outputs": [
    {
     "data": {
      "text/html": [
       "<div>\n",
       "<style scoped>\n",
       "    .dataframe tbody tr th:only-of-type {\n",
       "        vertical-align: middle;\n",
       "    }\n",
       "\n",
       "    .dataframe tbody tr th {\n",
       "        vertical-align: top;\n",
       "    }\n",
       "\n",
       "    .dataframe thead th {\n",
       "        text-align: right;\n",
       "    }\n",
       "</style>\n",
       "<table border=\"1\" class=\"dataframe\">\n",
       "  <thead>\n",
       "    <tr style=\"text-align: right;\">\n",
       "      <th></th>\n",
       "      <th>ANO_MES_MOVIMIENTO</th>\n",
       "      <th>PROGRAMA</th>\n",
       "      <th>TIPO_INTER</th>\n",
       "      <th>TIPO_SOLICITANTE</th>\n",
       "      <th>NIVEL_EDUCATIVO</th>\n",
       "      <th>TASA_USO</th>\n",
       "      <th>TIPO_SERVICIO</th>\n",
       "    </tr>\n",
       "  </thead>\n",
       "  <tbody>\n",
       "  </tbody>\n",
       "</table>\n",
       "</div>"
      ],
      "text/plain": [
       "Empty DataFrame\n",
       "Columns: [ANO_MES_MOVIMIENTO, PROGRAMA, TIPO_INTER, TIPO_SOLICITANTE, NIVEL_EDUCATIVO, TASA_USO, TIPO_SERVICIO]\n",
       "Index: []"
      ]
     },
     "execution_count": 66,
     "metadata": {},
     "output_type": "execute_result"
    }
   ],
   "source": [
    "tasa_prom = tasa.copy()\n",
    "\n",
    "tasa_prom = tasa_prom.groupby(['ANO_MES_MOVIMIENTO','PROGRAMA','TIPO_INTER','TIPO_SOLICITANTE', 'NIVEL_EDUCATIVO']).agg({'TASA_USO':'mean'})\n",
    "tasa_prom=tasa_prom.reset_index()\n",
    "tasa_prom['TIPO_SERVICIO'] = 'Interurbano'\n",
    "tasa_prom"
   ]
  },
  {
   "cell_type": "code",
   "execution_count": 67,
   "metadata": {},
   "outputs": [],
   "source": [
    "tasa_prom.to_excel(writer, sheet_name= 'TASA_USO_PROM')"
   ]
  },
  {
   "cell_type": "markdown",
   "metadata": {},
   "source": [
    "#### Intervalos Tasa de Uso Promedio"
   ]
  },
  {
   "cell_type": "markdown",
   "metadata": {},
   "source": [
    "Se crean intervalos para la Tasa de Uso, de manera de saber la cantidad de beneficios que cae en cada uno de estos intervalos. La función para crear intervalos es pd.cut() y necesita que sean definidos tanto los límites de cada intervalo (bins) como el nombre (labels)."
   ]
  },
  {
   "cell_type": "markdown",
   "metadata": {},
   "source": [
    "#### Casos por Intervalos"
   ]
  },
  {
   "cell_type": "code",
   "execution_count": 68,
   "metadata": {},
   "outputs": [],
   "source": [
    "intervalos = tasa.copy()\n",
    "\n",
    "bins = [0,0.25, 0.50,0.75, 1.2, 99999]\n",
    "labels = ['<25%','25-50%','50-75%','75-100%','+100%']\n",
    "\n",
    "intervalos['INTERVALOS'] = pd.cut(intervalos['TASA_USO'], bins=bins, labels=labels)\n",
    "intervalos['TIPO_SERVICIO'] = 'Interurbano'\n"
   ]
  },
  {
   "cell_type": "code",
   "execution_count": 69,
   "metadata": {},
   "outputs": [],
   "source": [
    "intervalos.to_excel(writer, sheet_name= 'INTERVALOS_TABLA')"
   ]
  },
  {
   "cell_type": "markdown",
   "metadata": {},
   "source": [
    "A partir de la tabla creada en el punto anterior, se agrupan las autorizaciones por intervalo contando la cantidad de casos."
   ]
  },
  {
   "cell_type": "code",
   "execution_count": 70,
   "metadata": {},
   "outputs": [
    {
     "data": {
      "text/html": [
       "<div>\n",
       "<style scoped>\n",
       "    .dataframe tbody tr th:only-of-type {\n",
       "        vertical-align: middle;\n",
       "    }\n",
       "\n",
       "    .dataframe tbody tr th {\n",
       "        vertical-align: top;\n",
       "    }\n",
       "\n",
       "    .dataframe thead th {\n",
       "        text-align: right;\n",
       "    }\n",
       "</style>\n",
       "<table border=\"1\" class=\"dataframe\">\n",
       "  <thead>\n",
       "    <tr style=\"text-align: right;\">\n",
       "      <th></th>\n",
       "      <th>ANO_MES_MOVIMIENTO</th>\n",
       "      <th>PROGRAMA</th>\n",
       "      <th>TIPO_INTER</th>\n",
       "      <th>INTERVALOS</th>\n",
       "      <th>TIPO_SOLICITANTE</th>\n",
       "      <th>NIVEL_EDUCATIVO</th>\n",
       "      <th>ID_AUTORIZACION</th>\n",
       "      <th>TIPO_SERVICIO</th>\n",
       "    </tr>\n",
       "  </thead>\n",
       "  <tbody>\n",
       "  </tbody>\n",
       "</table>\n",
       "</div>"
      ],
      "text/plain": [
       "Empty DataFrame\n",
       "Columns: [ANO_MES_MOVIMIENTO, PROGRAMA, TIPO_INTER, INTERVALOS, TIPO_SOLICITANTE, NIVEL_EDUCATIVO, ID_AUTORIZACION, TIPO_SERVICIO]\n",
       "Index: []"
      ]
     },
     "execution_count": 70,
     "metadata": {},
     "output_type": "execute_result"
    }
   ],
   "source": [
    "casos_rango = intervalos.copy()\n",
    "casos_rango = casos_rango.groupby(['ANO_MES_MOVIMIENTO','PROGRAMA','TIPO_INTER','INTERVALOS','TIPO_SOLICITANTE','NIVEL_EDUCATIVO']).agg({'ID_AUTORIZACION':'count'}).reset_index()\n",
    "casos_rango.reset_index()\n",
    "casos_rango.rename({'ID_AUTORIZACION':'CANT_CASOS'},axis=1)\n",
    "casos_rango['TIPO_SERVICIO'] = 'Interurbano'\n",
    "casos_rango"
   ]
  },
  {
   "cell_type": "code",
   "execution_count": 71,
   "metadata": {},
   "outputs": [],
   "source": [
    "casos_rango.to_excel(writer, sheet_name= 'INTERVALOS_RANGO')"
   ]
  },
  {
   "cell_type": "markdown",
   "metadata": {},
   "source": [
    "# Guardar Resultados en Excel"
   ]
  },
  {
   "cell_type": "markdown",
   "metadata": {},
   "source": [
    "Todas las hojas del excel que fuimos definiendo a lo largo de la notebook, las guardamos en este momento como sigue:"
   ]
  },
  {
   "cell_type": "code",
   "execution_count": 72,
   "metadata": {},
   "outputs": [],
   "source": [
    "writer.save()"
   ]
  },
  {
   "cell_type": "code",
   "execution_count": null,
   "metadata": {},
   "outputs": [],
   "source": []
  }
 ],
 "metadata": {
  "kernelspec": {
   "display_name": "Python 3 (ipykernel)",
   "language": "python",
   "name": "python3"
  },
  "language_info": {
   "codemirror_mode": {
    "name": "ipython",
    "version": 3
   },
   "file_extension": ".py",
   "mimetype": "text/x-python",
   "name": "python",
   "nbconvert_exporter": "python",
   "pygments_lexer": "ipython3",
   "version": "3.9.13"
  }
 },
 "nbformat": 4,
 "nbformat_minor": 4
}
